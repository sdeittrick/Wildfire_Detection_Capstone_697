{
 "cells": [
  {
   "cell_type": "code",
   "execution_count": 38,
   "metadata": {},
   "outputs": [],
   "source": [
    "# pip install oauth2client"
   ]
  },
  {
   "cell_type": "code",
   "execution_count": 4,
   "metadata": {},
   "outputs": [],
   "source": [
    "clientId = '442077579178-3kol0ade9sovc4rh877ebdlai4fp3h78.apps.googleusercontent.com'"
   ]
  },
  {
   "cell_type": "code",
   "execution_count": 5,
   "metadata": {},
   "outputs": [],
   "source": [
    "import os\n",
    "import pandas as pd\n",
    "import numpy as np\n",
    "\n",
    "# import required libaries to process images\n",
    "import PIL\n",
    "from PIL import Image\n",
    "import matplotlib.pyplot as plt\n",
    "%matplotlib inline \n",
    " \n",
    "#using Keras\n",
    "import tensorflow as tf\n",
    "from tensorflow.keras import datasets, layers, models\n",
    "import matplotlib.pyplot as plt\n",
    "from tensorflow import keras\n",
    "from tensorflow.keras.models import Sequential\n",
    "\n",
    "#google drive imports\n",
    "import gdown"
   ]
  },
  {
   "cell_type": "code",
   "execution_count": 25,
   "metadata": {},
   "outputs": [],
   "source": [
    "from apiclient import discovery\n",
    "from httplib2 import Http\n",
    "import oauth2client\n",
    "from oauth2client import file, client, tools\n",
    "\n",
    "dir = os.getcwd()\n",
    "\n",
    "obj = lambda: None\n",
    "lmao = {\"auth_host_name\":'localhost', 'noauth_local_webserver':'store_true', 'auth_host_port':[8080, 8090], 'logging_level':'ERROR'}\n",
    "for k, v in lmao.items():\n",
    "    setattr(obj, k, v)\n",
    "    \n",
    "# authorization boilerplate code\n",
    "SCOPES = 'https://www.googleapis.com/auth/drive.readonly'\n",
    "store = file.Storage('token.json')\n",
    "creds = store.get()\n",
    "# The following will give you a link if token.json does not exist, the link allows the user to give this app permission\n",
    "if not creds or creds.invalid:\n",
    "#     os.listdir('{}/'.format(dir))\n",
    "    flow = client.flow_from_clientsecrets('client_id.json', SCOPES)\n",
    "    creds = tools.run_flow(flow, store, obj)"
   ]
  },
  {
   "cell_type": "code",
   "execution_count": 27,
   "metadata": {},
   "outputs": [
    {
     "name": "stdout",
     "output_type": "stream",
     "text": [
      "Download 100%.\n"
     ]
    }
   ],
   "source": [
    "import io\n",
    "from googleapiclient.http import MediaIoBaseDownload\n",
    "DRIVE = discovery.build('drive', 'v3', http=creds.authorize(Http()))\n",
    "# if you get the shareable link, the link contains this id, replace the file_id below\n",
    "file_id = '1vX2mTkHRQFmTBLeJk4y0bsFelUfVaW6f'\n",
    "request = DRIVE.files().get_media(fileId=file_id)\n",
    "# replace the filename and extension in the first field below\n",
    "fh = io.FileIO('1vX2mTkHRQFmTBLeJk4y0bsFelUfVaW6f.png', mode='w')\n",
    "downloader = MediaIoBaseDownload(fh, request)\n",
    "done = False\n",
    "while done is False:\n",
    "    status, done = downloader.next_chunk()\n",
    "    print(\"Download %d%%.\" % int(status.progress() * 100))"
   ]
  },
  {
   "cell_type": "code",
   "execution_count": 37,
   "metadata": {},
   "outputs": [
    {
     "name": "stdout",
     "output_type": "stream",
     "text": [
      "Found folder: wildfire_train_set - Unprocessed (1XpY4THiadUWd-opPo8H9YXiS9uZD5WQZ)\n",
      "Found folder: Night (1EMBPl5MmezgBCSdN_890Da3Nqv2onnku)\n",
      "Found folder: Day (1ZGSo_kTF4Y-dim6cv4dFwIeK5XrTSbpQ)\n",
      "Found folder: Morning (1YdiCRTA8z2JCZcsN4H1DRmphTv91MLiE)\n",
      "Found folder: Morning (1s-jWPOinyCRnPHUp9TnMH9yUQ7ImQEB3)\n",
      "Found folder: Day (1Oxr2RW92hcCi1nzjYdImh-PNecJwr5ft)\n",
      "Found folder: Night (17fgX2WkF86ZYRdgp15jcg2SK8K7Y8f2X)\n",
      "Found folder: Light Smoke (1DG4FdV4baM2LtHvE0v3qWUybCxSyu2Zz)\n",
      "Found folder: Heavy Smoke (1G0wUmrueNV8H21W62mWmIIpHX7Rw-Tj8)\n",
      "Found folder: css (1NVKVTyQcraapPzsgCNX2Op_fu9qS_8vh)\n",
      "Found folder: img (1q5tCGPCQuwNQI3Y_y4JjVcr4MZElaXgY)\n",
      "Found folder: js (1kHMosKx77gozxhzLAnGJXIBRV1hatmf4)\n",
      "Found folder: _Completed (17clcfHsHE2-nD74uyoRMI6PFGiuBxrOz)\n",
      "Found folder: Website (13ImZQqe9IV-o0XkmzN34dJLlW3N7a3Ze)\n",
      "Found folder: Updates and Standups (1KLElFPdc_Y28YXzQc7FY-ZmCVzFJ9ff6)\n",
      "Found folder: wildfire_test_set (1qoYba1nQNYdwGwphztEIjuN_ZmfX1mxQ)\n",
      "Found folder: assets (1vcUVCue4xHDVLj0gcCQjGXTOY4o0V6dk)\n",
      "Found folder: SIADS_697 (1jW5sFw2B2aJcOHc7WjhDNUn0NAAQ0TmG)\n",
      "Found folder: Project Examples (1J4isTezbs1Yplzbn-pqxvUZqR7U8ejT8)\n",
      "Found folder: Project Slide Templates (1c4o7eR1BkJlgnk3YV8wY_1B2K3QggjWR)\n",
      "Found folder: Meet Recordings (13pQTYblZEq7-VcTwcDHp04ykPIcAM8RT)\n",
      "Found folder: Grand Teton // Yellowstone (1tegRKpWMkXPXqXJvg30kQgReDvrMZ7I-)\n",
      "Found folder: Summer/Fall 2020 (1M-V7jRfHvCoxL3OYG6Unbc1XuIzkaXyK)\n",
      "Found folder: SIADS_501 - Public (1CXyT6JJkPfbWJmxfJdkVlsFtL9XryHLW)\n",
      "Found folder: Slide Decks (14crLpNBJRyCFWbVI146z8QN20EZrejrw)\n",
      "Found folder: Assignment 4 (1Sjz24FY3C53Aea5vApbiQHyCjRjZP63Y)\n",
      "Found folder: Assignment 3 (11r5-c2_zVG6lRgouzUEvDK6-Jd9csJSZ)\n",
      "Found folder: Assignment 2 (180Bz69BO4Ka4lrmYVT7pm4vpTRRpOIQ1)\n",
      "Found folder: SIADS 505 Office Hours (1Eq6puKTzg4pCDoiv75WQgLGOWqdl8GDw)\n",
      "Found folder: Assignment 1 (12BqO8OIcxnJURgLEnPqggOXDiwKxQLr2)\n",
      "Found folder: Assignment Solutions (1-W4T0JBuISBV3BaCBXcmjrSqtlk1IFI6)\n",
      "Found folder: assets (1Vz8xkZbF92Jzpeq9h6GKASkp39BGwhwk)\n",
      "Found folder: Notebooks (1QcGqk-BVwf-NoaFXxiRUiT98Kxmd_jcM)\n"
     ]
    }
   ],
   "source": [
    "page_token = None\n",
    "while True:\n",
    "    response = DRIVE.files().list(q=\"mimeType='application/vnd.google-apps.folder'\",\n",
    "                                          spaces='drive',\n",
    "                                          fields='nextPageToken, files(id, name)',\n",
    "                                          pageToken=page_token).execute()\n",
    "    for file in response.get('files', []):\n",
    "        # Process change\n",
    "        print ('Found folder: %s (%s)' % (file.get('name'), file.get('id')))\n",
    "    page_token = response.get('nextPageToken', None)\n",
    "    if page_token is None:\n",
    "        break\n"
   ]
  },
  {
   "cell_type": "code",
   "execution_count": null,
   "metadata": {},
   "outputs": [],
   "source": [
    "def plot_images(images):\n",
    "    import math\n",
    "\n",
    "    p_size = math.floor(math.sqrt(len(images)))\n",
    "\n",
    "    class_names = ['no_fire','fire']\n",
    "    plt.figure(figsize=(10,10))\n",
    "    for i in range(p_size**2):\n",
    "        plt.subplot(p_size,p_size,i+1)\n",
    "        plt.xticks([])\n",
    "        plt.yticks([])\n",
    "        plt.grid(False)\n",
    "        plt.imshow(images[i])\n",
    "#         plt.xlabel(class_names[labels[i][0]])\n",
    "        \n",
    "plot_images(image_arrays)"
   ]
  }
 ],
 "metadata": {
  "kernelspec": {
   "display_name": "Python 3",
   "language": "python",
   "name": "python3"
  },
  "language_info": {
   "codemirror_mode": {
    "name": "ipython",
    "version": 3
   },
   "file_extension": ".py",
   "mimetype": "text/x-python",
   "name": "python",
   "nbconvert_exporter": "python",
   "pygments_lexer": "ipython3",
   "version": "3.7.4"
  }
 },
 "nbformat": 4,
 "nbformat_minor": 2
}
