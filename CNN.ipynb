{
 "cells": [
  {
   "cell_type": "code",
   "execution_count": 24,
   "source": [
    "import os\n",
    "import pandas as pd\n",
    "import numpy as np\n",
    "import tensorflow as tf\n",
    "\n",
    "from keras.preprocessing.image import load_img\n",
    "from keras.preprocessing.image import img_to_array\n",
    "from keras.preprocessing.image import array_to_img"
   ],
   "outputs": [],
   "metadata": {}
  },
  {
   "cell_type": "code",
   "execution_count": 18,
   "source": [
    "#get list of images \n",
    "dir = os.getcwd()\n",
    "images = os.listdir('{}/assets/wildfire_test_set'.format(dir))\n",
    "#image_arrays = [np.asarray(Image.open('{}/assets/wildfire_test_set/{}'.format(dir,image))) for image in images[:25]] "
   ],
   "outputs": [],
   "metadata": {}
  },
  {
   "cell_type": "code",
   "execution_count": 26,
   "source": [
    "img = load_img('{}/assets/wildfire_test_set/{}'.format(dir,images[0]))\n",
    "img_to_array(img)"
   ],
   "outputs": [
    {
     "output_type": "execute_result",
     "data": {
      "text/plain": [
       "array([[[148., 143., 124.],\n",
       "        [148., 143., 123.],\n",
       "        [148., 143., 121.],\n",
       "        ...,\n",
       "        [192., 207., 214.],\n",
       "        [193., 203., 215.],\n",
       "        [193., 203., 215.]],\n",
       "\n",
       "       [[150., 143., 125.],\n",
       "        [149., 142., 123.],\n",
       "        [150., 144., 122.],\n",
       "        ...,\n",
       "        [192., 207., 212.],\n",
       "        [194., 204., 214.],\n",
       "        [195., 205., 215.]],\n",
       "\n",
       "       [[151., 144., 125.],\n",
       "        [149., 142., 123.],\n",
       "        [147., 141., 119.],\n",
       "        ...,\n",
       "        [192., 207., 212.],\n",
       "        [193., 206., 215.],\n",
       "        [193., 206., 215.]],\n",
       "\n",
       "       ...,\n",
       "\n",
       "       [[ 98.,  96.,  81.],\n",
       "        [101.,  99.,  84.],\n",
       "        [100., 101.,  83.],\n",
       "        ...,\n",
       "        [ 99.,  89.,  54.],\n",
       "        [ 94.,  88.,  52.],\n",
       "        [ 97.,  93.,  56.]],\n",
       "\n",
       "       [[ 86.,  87.,  69.],\n",
       "        [ 93.,  94.,  76.],\n",
       "        [111., 113.,  92.],\n",
       "        ...,\n",
       "        [102.,  87.,  54.],\n",
       "        [100.,  89.,  59.],\n",
       "        [ 95.,  84.,  54.]],\n",
       "\n",
       "       [[ 89.,  92.,  71.],\n",
       "        [ 96.,  99.,  78.],\n",
       "        [108., 112.,  89.],\n",
       "        ...,\n",
       "        [100.,  85.,  52.],\n",
       "        [112., 101.,  71.],\n",
       "        [ 98.,  87.,  57.]]], dtype=float32)"
      ]
     },
     "metadata": {},
     "execution_count": 26
    }
   ],
   "metadata": {}
  },
  {
   "cell_type": "code",
   "execution_count": 21,
   "source": [
    "img.show()"
   ],
   "outputs": [],
   "metadata": {}
  }
 ],
 "metadata": {
  "orig_nbformat": 4,
  "language_info": {
   "name": "python",
   "version": "3.7.11",
   "mimetype": "text/x-python",
   "codemirror_mode": {
    "name": "ipython",
    "version": 3
   },
   "pygments_lexer": "ipython3",
   "nbconvert_exporter": "python",
   "file_extension": ".py"
  },
  "kernelspec": {
   "name": "python3",
   "display_name": "Python 3.8.12 64-bit ('wild_fire_detection_capstone': conda)"
  },
  "interpreter": {
   "hash": "936d231efd7c6898bccafd25e915affb364e72b3da6062ba4718fc31b9b6a765"
  }
 },
 "nbformat": 4,
 "nbformat_minor": 2
}