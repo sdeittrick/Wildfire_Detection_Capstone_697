{
 "cells": [
  {
   "cell_type": "code",
   "execution_count": 1,
   "metadata": {},
   "outputs": [],
   "source": [
    "import os\n",
    "import pandas as pd\n",
    "import numpy as np\n",
    "import pickle\n",
    "import PIL\n",
    "from PIL import Image\n",
    "import matplotlib.pyplot as plt\n",
    "\n",
    "#import custom functions\n",
    "from image_load import load_images, get_image_stats\n",
    "from image_transform import pad_images, crop_images\n",
    "from charts import plot_images"
   ]
  },
  {
   "cell_type": "code",
   "execution_count": 26,
   "metadata": {},
   "outputs": [],
   "source": [
    "test_fire_images = load_images('wildfire_test_set',1,100)\n",
    "test_nonfire_images = load_images('real_landscape_test_set',0,100)"
   ]
  },
  {
   "cell_type": "code",
   "execution_count": 7,
   "metadata": {},
   "outputs": [
    {
     "name": "stdout",
     "output_type": "stream",
     "text": [
      "815\n",
      "815\n",
      "613\n"
     ]
    }
   ],
   "source": [
    "train_data = []\n",
    "test_data = []\n",
    "data = []\n",
    "fire_data = []\n",
    "nofire_data = []\n",
    "#image types \n",
    "smokeTypes = ['Heavy Smoke','Light Smoke']\n",
    "timeOfDay = ['Night','Day','Morning']\n",
    "\n",
    "# for pulling non-fire photos\n",
    "nofire_processed = load_images('wildfire_train_set - Base Forest - Unprocessed',0,100)\n",
    "nofire_data.extend(nofire_processed)\n",
    "\n",
    "# for pulling fire photos\n",
    "for smokeType in smokeTypes:\n",
    "    for time in timeOfDay:\n",
    "        wildfire_train_set_Processed = load_images(f'wildfire_train_set - Unprocessed/{smokeType}/{time}', 1, 100)\n",
    "        fire_data.extend(wildfire_train_set_Processed)\n"
   ]
  },
  {
   "cell_type": "code",
   "execution_count": 16,
   "metadata": {},
   "outputs": [],
   "source": [
    "test_data = fire_data[:10]+nofire_data[:130]\n",
    "train_data = fire_data[10:]+nofire_data[130:]"
   ]
  },
  {
   "cell_type": "code",
   "execution_count": 17,
   "metadata": {},
   "outputs": [
    {
     "name": "stdout",
     "output_type": "stream",
     "text": [
      "1288\n",
      "140\n"
     ]
    }
   ],
   "source": [
    "images, labels = zip(*train_data)\n",
    "length_mean, length_max, width_max, width_mean = get_image_stats(images)\n",
    "#crop and pad images\n",
    "images_cropped = pad_images(images, width_max, length_max)\n",
    "images_final = crop_images(images_cropped, width_mean, length_mean)\n",
    "#convert all imagees to RGB some are ARGB\n",
    "images_final = [np.array(Image.fromarray(image).convert('RGB')) for image in images_final]\n",
    "\n",
    "#add labels back in\n",
    "data_train = list(zip(images_final, labels))\n",
    "\n",
    "images, labels = zip(*test_data)\n",
    "length_mean, length_max, width_max, width_mean = get_image_stats(images)\n",
    "#crop and pad images\n",
    "images_cropped = pad_images(images, width_max, length_max)\n",
    "images_final = crop_images(images_cropped, width_mean, length_mean)\n",
    "#convert all imagees to RGB some are ARGB\n",
    "images_final = [np.array(Image.fromarray(image).convert('RGB')) for image in images_final]\n",
    "\n",
    "#add labels back in\n",
    "data_test = list(zip(images_final, labels))"
   ]
  },
  {
   "cell_type": "code",
   "execution_count": null,
   "metadata": {},
   "outputs": [],
   "source": [
    "dir = os.getcwd()\n",
    "output_file1 = 'train_images_unrealEvenish_pkl.pkl'\n",
    "output_file2 = 'test_images_unrealUneven_pkl.pkl'\n",
    "\n",
    "with open('{}/artifacts/{}'.format(dir,output_file1), 'wb+') as out:\n",
    "    pickle.dump(data_train, out)\n",
    "\n",
    "with open('{}/artifacts/{}'.format(dir,output_file2), 'wb+') as out:\n",
    "     pickle.dump(data_test, out)"
   ]
  },
  {
   "cell_type": "code",
   "execution_count": 48,
   "metadata": {},
   "outputs": [],
   "source": [
    "test_fire_images = load_images('wildfire_test_set',1,100)\n",
    "test_nonfire_images = load_images('real_landscape_test_set',0,100)"
   ]
  },
  {
   "cell_type": "code",
   "execution_count": 49,
   "metadata": {},
   "outputs": [],
   "source": [
    "real_test_data = []\n",
    "real_test_data.extend(test_fire_images)\n",
    "real_test_data.extend(test_nonfire_images)\n",
    "\n",
    "images, labels = zip(*real_test_data)\n",
    "length_mean, length_max, width_max, width_mean = get_image_stats(images)\n",
    "#crop and pad images\n",
    "images_cropped = pad_images(images, width_max, length_max)\n",
    "images_final = crop_images(images_cropped, width_mean, length_mean)\n",
    "#convert all imagees to RGB some are ARGB\n",
    "images_final = [np.array(Image.fromarray(image).convert('RGB')) for image in images_final]\n",
    "\n",
    "# #add labels back in\n",
    "real_test_data = list(zip(images_final, labels))"
   ]
  },
  {
   "cell_type": "code",
   "execution_count": 51,
   "metadata": {},
   "outputs": [],
   "source": [
    "dir = os.getcwd()\n",
    "output_file1 = 'real_images_test.pkl'\n",
    "\n",
    "with open('{}/artifacts/{}'.format(dir,output_file1), 'wb+') as out:\n",
    "    pickle.dump(real_test_data, out)"
   ]
  },
  {
   "cell_type": "code",
   "execution_count": null,
   "metadata": {},
   "outputs": [],
   "source": []
  }
 ],
 "metadata": {
  "interpreter": {
   "hash": "1a7e1b17602ce2ea468a951908af7bc23f5fb404bcd43f493b2f049dccd7860b"
  },
  "kernelspec": {
   "display_name": "Python 3.7.12 64-bit ('wild_fire_detection_capstone': conda)",
   "language": "python",
   "name": "python3"
  },
  "language_info": {
   "codemirror_mode": {
    "name": "ipython",
    "version": 3
   },
   "file_extension": ".py",
   "mimetype": "text/x-python",
   "name": "python",
   "nbconvert_exporter": "python",
   "pygments_lexer": "ipython3",
   "version": "3.8.3"
  },
  "orig_nbformat": 4
 },
 "nbformat": 4,
 "nbformat_minor": 2
}
