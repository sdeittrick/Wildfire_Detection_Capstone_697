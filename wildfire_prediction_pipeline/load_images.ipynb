{
 "cells": [
  {
   "cell_type": "code",
   "execution_count": 66,
   "metadata": {},
   "outputs": [],
   "source": [
    "import os\n",
    "import pandas as pd\n",
    "import numpy as np\n",
    "import pickle\n",
    "import PIL\n",
    "from PIL import Image\n",
    "import matplotlib.pyplot as plt\n",
    "\n",
    "#import custom functions\n",
    "from image_load import load_images, get_image_stats\n",
    "from image_transform import pad_images, crop_images"
   ]
  },
  {
   "cell_type": "code",
   "execution_count": 65,
   "metadata": {},
   "outputs": [],
   "source": [
    "test_fire_images = load_images('corsican_images',1,100)\n",
    "test_nonfire_images = load_images('kaggle_landscape_images',0,100)"
   ]
  },
  {
   "cell_type": "code",
   "execution_count": 70,
   "metadata": {},
   "outputs": [],
   "source": [
    "data = []\n",
    "#image types \n",
    "smokeTypes = ['Heavy Smoke','Light Smoke']\n",
    "timeOfDay = ['Night','Day','Morning']\n",
    "\n",
    "# for pulling non-fire photos\n",
    "nofire_processed = load_images('wildfire_train_set - Base Forest - Processed',0,100)\n",
    "data.extend(nofire_processed)\n",
    "\n",
    "# for pulling fire photos\n",
    "for smokeType in smokeTypes:\n",
    "    for time in timeOfDay:\n",
    "        wildfire_train_set_Processed = load_images(f'wildfire_train_set - Processed and Pruned/{smokeType}/{time}', 1, 100)\n",
    "        data.extend(wildfire_train_set_Processed)\n",
    "\n",
    "images, labels = zip(*data)\n",
    "length_mean, length_max, width_max, width_mean = get_image_stats(images)\n",
    "#crop and pad images\n",
    "images_cropped = pad_images(images, width_max, length_max)\n",
    "images_final = crop_images(images_cropped, width_mean, length_mean)\n",
    "#convert all imagees to RGB some are ARGB\n",
    "images_final = [np.array(Image.fromarray(image).convert('RGB')) for image in images_final]\n",
    "#add labels back in\n",
    "data_train = list(zip(images_final, labels))"
   ]
  },
  {
   "cell_type": "code",
   "execution_count": 73,
   "metadata": {},
   "outputs": [],
   "source": [
    "data_test = []\n",
    "data_test.extend(test_fire_images[:45])\n",
    "data_test.extend(test_nonfire_images)\n",
    "images_test, labels_test = zip(*data_test)\n",
    "\n",
    "images_final_test = []\n",
    "for img in images_test:\n",
    "    img = Image.fromarray(img)\n",
    "    img = img.resize((177, 100))\n",
    "    images_final_test.append(np.array(img))\n",
    "\n",
    "data_test = list(zip(images_final_test, labels_test))"
   ]
  },
  {
   "cell_type": "code",
   "execution_count": 74,
   "metadata": {},
   "outputs": [],
   "source": [
    "output_file1 = 'train_images_pkl.pkl'\n",
    "output_file2 = 'test_images_pkl.pkl'\n",
    "\n",
    "with open('{}/artifacts/{}'.format(dir,output_file1), 'wb+') as out:\n",
    "    pickle.dump(data_train, out)\n",
    "\n",
    "with open('{}/artifacts/{}'.format(dir,output_file2), 'wb+') as out:\n",
    "     pickle.dump(data_test, out)"
   ]
  }
 ],
 "metadata": {
  "interpreter": {
   "hash": "1a7e1b17602ce2ea468a951908af7bc23f5fb404bcd43f493b2f049dccd7860b"
  },
  "kernelspec": {
   "display_name": "Python 3.7.12 64-bit ('wild_fire_detection_capstone': conda)",
   "language": "python",
   "name": "python3"
  },
  "language_info": {
   "codemirror_mode": {
    "name": "ipython",
    "version": 3
   },
   "file_extension": ".py",
   "mimetype": "text/x-python",
   "name": "python",
   "nbconvert_exporter": "python",
   "pygments_lexer": "ipython3",
   "version": "3.7.12"
  },
  "orig_nbformat": 4
 },
 "nbformat": 4,
 "nbformat_minor": 2
}
