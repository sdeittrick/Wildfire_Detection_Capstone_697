{
 "cells": [
  {
   "cell_type": "markdown",
   "metadata": {},
   "source": [
    "### Library Import"
   ]
  },
  {
   "cell_type": "code",
   "execution_count": 12,
   "metadata": {},
   "outputs": [],
   "source": [
    "import os\n",
    "import pandas as pd\n",
    "import numpy as np\n",
    "import pickle\n",
    "\n",
    "import PIL\n",
    "from PIL import Image\n",
    "import matplotlib.pyplot as plt\n",
    "%matplotlib inline \n",
    "\n",
    "import tensorflow as tf\n",
    "from tensorflow.keras import models, layers\n",
    "import matplotlib.pyplot as plt\n",
    "import matplotlib as mpl\n",
    "import sklearn\n",
    "mpl.rcParams['figure.figsize'] = (12, 10)\n",
    "colors = plt.rcParams['axes.prop_cycle'].by_key()['color']\n",
    "\n",
    "from tensorflow import keras\n",
    "from tensorflow.keras.models import Sequential\n",
    "from tensorboard.plugins.hparams import api as hp\n",
    "\n",
    "import altair as alt\n",
    "import seaborn as sns\n",
    "\n",
    "import importlib\n",
    "\n",
    "import warnings\n",
    "warnings.filterwarnings('ignore')\n"
   ]
  },
  {
   "cell_type": "code",
   "execution_count": 13,
   "metadata": {},
   "outputs": [],
   "source": [
    "# load in test_train_split custom function\n",
    "from sklearn.metrics import confusion_matrix\n",
    "import train\n",
    "importlib.reload(train)\n",
    "from train import test_train_split, train_test_model, run\n",
    "import charts\n",
    "importlib.reload(charts)\n",
    "from charts import line_chart, plot_confusion_matrix_2"
   ]
  },
  {
   "cell_type": "markdown",
   "metadata": {},
   "source": [
    "# Loading in Images"
   ]
  },
  {
   "cell_type": "markdown",
   "metadata": {},
   "source": [
    "#### From pickeled files\n",
    "For loading the images for the model simply run the the below code"
   ]
  },
  {
   "cell_type": "code",
   "execution_count": 14,
   "metadata": {},
   "outputs": [],
   "source": [
    "# to load image files from pickles both train and test\n",
    "dir = os.getcwd()\n",
    "\n",
    "with open('{}/artifacts/{}'.format(dir, 'train_images_pkl.pkl'), 'rb') as pickle_file: #train_images_pkl_all.pkl\n",
    "    train_data = pickle.load(pickle_file)\n",
    "\n",
    "with open('{}/artifacts/{}'.format(dir, 'test_images_pkl.pkl'), 'rb') as pickle_file: #test_images_pkl_even_ratio.pkl\n",
    "    test_data = pickle.load(pickle_file)\n"
   ]
  },
  {
   "cell_type": "code",
   "execution_count": 15,
   "metadata": {},
   "outputs": [],
   "source": [
    "#resize test data\n",
    "import random \n",
    "random.seed(42)\n",
    "random.shuffle(test_data)\n",
    "test_data_images, test_data_labels = zip(*test_data)\n",
    "images_test, labels_test = zip(*test_data)\n",
    "\n",
    "images_final_test = []\n",
    "for img in images_test:\n",
    "    img = Image.fromarray(img)\n",
    "    # img = img.resize((186, 100))\n",
    "    img = img.resize((177, 100))\n",
    "    images_final_test.append(np.array(img))\n",
    "    # print(img.shape)\n",
    "# input_shape = images_final_test.shape[1:]\n",
    "# print(input_shape)\n",
    "\n",
    "test_data_images = [np.array(Image.fromarray(img).convert('RGB')) for img in images_final_test]\n",
    "test_data_images = np.array(test_data_images)/255"
   ]
  },
  {
   "cell_type": "markdown",
   "metadata": {},
   "source": [
    "Now that we have loaded the images we can split the training set in to training, development and test images. We have imported a function that we have created for this. "
   ]
  },
  {
   "cell_type": "code",
   "execution_count": 22,
   "metadata": {},
   "outputs": [
    {
     "name": "stdout",
     "output_type": "stream",
     "text": [
      "(1516, 100, 177, 3)\n",
      "(1516, 100, 177, 3)\n",
      "(100, 177, 3)\n",
      "(1516, 100, 177, 3)\n",
      "(1516, 1)\n"
     ]
    }
   ],
   "source": [
    "#splitting in to test train split for the training data\n",
    "train_images, train_labels, dev_images, dev_labels, test_images, test_labels = test_train_split(train_data)\n",
    "print(np.array(train_images).shape)\n",
    "\n",
    "#normalize the images\n",
    "train_images, dev_images, test_images = np.array(train_images) / 255.0, \\\n",
    "                                        np.array(dev_images) / 255.0, \\\n",
    "                                        np.array(test_images) / 255.0\n",
    "\n",
    "print(train_images.shape)\n",
    "\n",
    "train_images = tf.convert_to_tensor(train_images, dtype=tf.float32)\n",
    "train_labels = tf.convert_to_tensor(train_labels, dtype=tf.float32)\n",
    "test_images = tf.convert_to_tensor(test_images, dtype=tf.float32)\n",
    "test_labels = tf.convert_to_tensor(test_labels, dtype=tf.float32)\n",
    "\n",
    "input_shape = train_images.shape[1:]\n",
    "print(input_shape)\n",
    "print(train_images.shape)\n",
    "print(train_labels.shape)"
   ]
  },
  {
   "cell_type": "code",
   "execution_count": 25,
   "metadata": {},
   "outputs": [
    {
     "name": "stdout",
     "output_type": "stream",
     "text": [
      "(3491, 100, 177, 3)\n",
      "(3491, 100, 177, 3)\n",
      "(3491, 100, 177, 3)\n",
      "(3491, 1)\n"
     ]
    }
   ],
   "source": [
    "test_data_images, test_data_labels, dev_data_images, dev_data_labels, last_data_images, last_data_labels = test_train_split(test_data)\n",
    "test_data_images = [np.array(Image.fromarray(img).convert('RGB')) for img in test_data_images]\n",
    "dev_data_images = [np.array(Image.fromarray(img).convert('RGB')) for img in dev_data_images]\n",
    "last_data_images = [np.array(Image.fromarray(img).convert('RGB')) for img in last_data_images]\n",
    "print(np.array(test_data_images).shape)\n",
    "\n",
    "test_data_images, dev_data_images, last_data_images = np.array(test_data_images) / 255.0, \\\n",
    "                                        np.array(dev_data_images) / 255.0, \\\n",
    "                                        np.array(last_data_images) / 255.0\n",
    "\n",
    "print(test_data_images.shape)                                       \n",
    "\n",
    "test_data_images = tf.convert_to_tensor(test_data_images, dtype=tf.float32)\n",
    "test_data_labels = tf.convert_to_tensor(test_data_labels, dtype=tf.float32)\n",
    "dev_data_images = tf.convert_to_tensor(dev_data_images, dtype=tf.float32)\n",
    "dev_data_labels = tf.convert_to_tensor(dev_data_labels, dtype=tf.float32)\n",
    "last_data_images = tf.convert_to_tensor(last_data_images, dtype=tf.float32)\n",
    "last_data_labels = tf.convert_to_tensor(last_data_labels, dtype=tf.float32)\n",
    "\n",
    "print(test_data_images.shape)\n",
    "print(test_data_labels.shape)"
   ]
  },
  {
   "cell_type": "markdown",
   "metadata": {},
   "source": [
    "# Hyperparameter Tuning"
   ]
  },
  {
   "cell_type": "code",
   "execution_count": 7,
   "metadata": {},
   "outputs": [],
   "source": [
    "from tensorboard.plugins.hparams import api as hp\n",
    "# %load_ext tensorboard\n",
    "%reload_ext tensorboard\n",
    "#! rm -rf ./logs/"
   ]
  },
  {
   "cell_type": "code",
   "execution_count": 26,
   "metadata": {},
   "outputs": [
    {
     "name": "stdout",
     "output_type": "stream",
     "text": [
      "--- Starting trial: run-0\n",
      "{'num_units': 64, 'dropout': 0.1, 'optimizer': 'RMSprop'}\n",
      "Epoch 1/25\n",
      "48/48 [==============================] - 13s 246ms/step - loss: 0.7911 - accuracy: 0.5877 - f1_m: 0.6793 - precision_m: 0.5530 - recall_m: 0.9063\n",
      "Epoch 2/25\n",
      "48/48 [==============================] - 12s 245ms/step - loss: 0.5520 - accuracy: 0.7190 - f1_m: 0.7235 - precision_m: 0.5753 - recall_m: 0.9902\n",
      "Epoch 3/25\n",
      "48/48 [==============================] - 11s 238ms/step - loss: 0.4235 - accuracy: 0.8015 - f1_m: 0.7249 - precision_m: 0.5766 - recall_m: 0.9960\n",
      "Epoch 4/25\n",
      "48/48 [==============================] - 11s 228ms/step - loss: 0.3087 - accuracy: 0.8602 - f1_m: 0.7218 - precision_m: 0.5722 - recall_m: 0.9985\n",
      "Epoch 5/25\n",
      "48/48 [==============================] - 11s 224ms/step - loss: 0.2706 - accuracy: 0.8931 - f1_m: 0.7279 - precision_m: 0.5762 - recall_m: 1.0000\n",
      "Epoch 6/25\n",
      "48/48 [==============================] - 11s 221ms/step - loss: 0.2004 - accuracy: 0.9182 - f1_m: 0.7256 - precision_m: 0.5743 - recall_m: 0.9986\n",
      "Epoch 7/25\n",
      "48/48 [==============================] - 11s 221ms/step - loss: 0.2149 - accuracy: 0.9169 - f1_m: 0.7247 - precision_m: 0.5736 - recall_m: 1.0000\n",
      "Epoch 8/25\n",
      "48/48 [==============================] - 11s 223ms/step - loss: 0.1609 - accuracy: 0.9354 - f1_m: 0.7281 - precision_m: 0.5757 - recall_m: 1.0000\n",
      "Epoch 9/25\n",
      "48/48 [==============================] - 11s 222ms/step - loss: 0.1505 - accuracy: 0.9406 - f1_m: 0.7280 - precision_m: 0.5768 - recall_m: 1.0000\n",
      "Epoch 10/25\n",
      "48/48 [==============================] - 11s 221ms/step - loss: 0.1378 - accuracy: 0.9518 - f1_m: 0.7261 - precision_m: 0.5747 - recall_m: 1.0000\n",
      "Epoch 11/25\n",
      "48/48 [==============================] - 11s 220ms/step - loss: 0.1457 - accuracy: 0.9479 - f1_m: 0.7284 - precision_m: 0.5768 - recall_m: 1.0000\n",
      "Epoch 12/25\n",
      "48/48 [==============================] - 11s 223ms/step - loss: 0.0923 - accuracy: 0.9697 - f1_m: 0.7282 - precision_m: 0.5779 - recall_m: 1.0000\n",
      "Epoch 13/25\n",
      "48/48 [==============================] - 11s 223ms/step - loss: 0.0954 - accuracy: 0.9631 - f1_m: 0.7243 - precision_m: 0.5736 - recall_m: 1.0000\n",
      "Epoch 14/25\n",
      "48/48 [==============================] - 11s 220ms/step - loss: 0.0885 - accuracy: 0.9690 - f1_m: 0.7273 - precision_m: 0.5757 - recall_m: 1.0000\n",
      "Epoch 15/25\n",
      "48/48 [==============================] - 11s 221ms/step - loss: 0.1009 - accuracy: 0.9677 - f1_m: 0.7253 - precision_m: 0.5757 - recall_m: 1.0000\n",
      "Epoch 16/25\n",
      "48/48 [==============================] - 11s 220ms/step - loss: 0.0654 - accuracy: 0.9776 - f1_m: 0.7256 - precision_m: 0.5736 - recall_m: 1.0000\n",
      "Epoch 17/25\n",
      "48/48 [==============================] - 11s 221ms/step - loss: 0.0962 - accuracy: 0.9716 - f1_m: 0.7235 - precision_m: 0.5725 - recall_m: 1.0000\n",
      "Epoch 18/25\n",
      "48/48 [==============================] - 11s 219ms/step - loss: 0.1274 - accuracy: 0.9650 - f1_m: 0.7258 - precision_m: 0.5768 - recall_m: 1.0000\n",
      "Epoch 19/25\n",
      "48/48 [==============================] - 11s 221ms/step - loss: 0.0890 - accuracy: 0.9697 - f1_m: 0.7272 - precision_m: 0.5757 - recall_m: 1.0000\n",
      "Epoch 20/25\n",
      "48/48 [==============================] - 11s 223ms/step - loss: 0.0932 - accuracy: 0.9710 - f1_m: 0.7219 - precision_m: 0.5703 - recall_m: 1.0000\n",
      "Epoch 21/25\n",
      "48/48 [==============================] - 11s 219ms/step - loss: 0.0576 - accuracy: 0.9802 - f1_m: 0.7283 - precision_m: 0.5757 - recall_m: 1.0000\n",
      "Epoch 22/25\n",
      "48/48 [==============================] - 11s 220ms/step - loss: 0.1101 - accuracy: 0.9756 - f1_m: 0.7263 - precision_m: 0.5747 - recall_m: 1.0000\n",
      "Epoch 23/25\n",
      "48/48 [==============================] - 11s 223ms/step - loss: 0.0578 - accuracy: 0.9776 - f1_m: 0.7268 - precision_m: 0.5757 - recall_m: 1.0000\n",
      "Epoch 24/25\n",
      "48/48 [==============================] - 11s 220ms/step - loss: 0.0894 - accuracy: 0.9736 - f1_m: 0.7272 - precision_m: 0.5757 - recall_m: 1.0000\n",
      "Epoch 25/25\n",
      "48/48 [==============================] - 11s 221ms/step - loss: 0.0681 - accuracy: 0.9855 - f1_m: 0.7238 - precision_m: 0.5725 - recall_m: 1.0000\n",
      "6/6 [==============================] - 1s 40ms/step - loss: 0.0562 - accuracy: 0.9895 - f1_m: 0.6924 - precision_m: 0.5351 - recall_m: 1.0000\n",
      "(190, 100, 177, 3)\n",
      "(190, 1)\n"
     ]
    }
   ],
   "source": [
    "session_num = 0\n",
    "epochs = 50\n",
    "HP_NUM_UNITS = hp.HParam('num_units', hp.Discrete([64]))#, 64])) #8, 16\n",
    "HP_DROPOUT = hp.HParam('dropout', hp.RealInterval(0.1, 0.2))\n",
    "dropout_rate = 0.1\n",
    "HP_OPTIMIZER = hp.HParam('optimizer', hp.Discrete(['RMSprop']))#,'adam', 'Nadam'])) #'sgd','Adagrad'\n",
    "\n",
    "params = []\n",
    "losses = []\n",
    "accuracies = []\n",
    "f1_scores = []\n",
    "precisions = []\n",
    "recalls = []\n",
    "aucs = []\n",
    "cms = []\n",
    "units = []\n",
    "dropouts = []\n",
    "optimizers = []\n",
    "histories = []\n",
    "modelz = []\n",
    "predictions = []\n",
    "\n",
    "\n",
    "# epochs = 50\n",
    "#{'num_units': 64, 'dropout': 0.1, 'optimizer': 'adam'} 88/91\n",
    "#{'num_units': 64, 'dropout': 0.1, 'optimizer': 'RMSprop'} 88/93\n",
    "#{'num_units': 64, 'dropout': 0.1, 'optimizer': 'Nadam'} 89/92\n",
    "#{'num_units': 32, 'dropout': 0.1, 'optimizer': 'Nadam'} 89/92\n",
    "#{'num_units': 16, 'dropout': 0.2, 'optimizer': 'RMSprop'} 84/91\n",
    "\n",
    "for num_units in HP_NUM_UNITS.domain.values:\n",
    "    #for dropout_rate in HP_DROPOUT.domain.min_value:#, HP_DROPOUT.domain.max_value):\n",
    "    for optimizer in HP_OPTIMIZER.domain.values:\n",
    "        hparams = {\n",
    "          HP_NUM_UNITS: num_units,\n",
    "          HP_DROPOUT: dropout_rate,\n",
    "          HP_OPTIMIZER: optimizer,\n",
    "        }\n",
    "        run_name = \"run-%d\" % session_num\n",
    "        print('--- Starting trial: %s' % run_name)\n",
    "        print({h.name: hparams[h] for h in hparams})\n",
    "        units.append(num_units)\n",
    "        dropouts.append(dropout_rate)\n",
    "        optimizers.append(optimizer)\n",
    "        model = run('logs/hparam_tuning/' + run_name, hparams, epochs, input_shape,train_images,train_labels,test_images, test_labels,\n",
    "                HP_NUM_UNITS, HP_DROPOUT, HP_OPTIMIZER, predictions,\n",
    "                params, losses, accuracies, f1_scores, precisions, recalls, cms, aucs,\n",
    "                units, dropouts, optimizers, histories, augmentModel=True)\n",
    "        modelz.append(model)\n",
    "        session_num += 1"
   ]
  },
  {
   "cell_type": "code",
   "execution_count": 27,
   "metadata": {},
   "outputs": [
    {
     "data": {
      "image/png": "[encoded data removed]",
      "text/plain": [
       "<Figure size 864x720 with 2 Axes>"
      ]
     },
     "metadata": {
      "needs_background": "light"
     },
     "output_type": "display_data"
    }
   ],
   "source": [
    "#dataframe assembly for model comparison\n",
    "#integrate confusion matrices as well\n",
    "\n",
    "modelDf = pd.DataFrame(list(zip(units, dropouts, optimizers, losses, accuracies, f1_scores, precisions, recalls, cms)),#aucs, \n",
    "               columns =['units', 'dropouts', 'optimizers', 'losses', 'accuracies', 'f1_scores', 'precisions', 'recalls', 'cms'])#'aucs',\n",
    "\n",
    "modelDf['cms'].values[0]\n",
    "\n",
    "plot_confusion_matrix_2(modelDf['cms'].values[0],normalize=False)"
   ]
  },
  {
   "cell_type": "code",
   "execution_count": 28,
   "metadata": {},
   "outputs": [
    {
     "name": "stdout",
     "output_type": "stream",
     "text": [
      "(3491,)\n",
      "(3491, 1)\n"
     ]
    }
   ],
   "source": [
    "# prediction = model.predict(x=test_images, steps=len(test_images), verbose=0)\n",
    "# cm = confusion_matrix(y_true=test_labels, y_pred=np.argmax(prediction, axis=-1))\n",
    "# print(np.argmax(prediction, axis=-1).shape)\n",
    "# print(test_labels.shape)\n",
    "\n",
    "predictions2 = model.predict(x=test_data_images, steps=len(test_data_images), verbose=0)\n",
    "cm2 = confusion_matrix(y_true=test_data_labels, y_pred=np.argmax(predictions2, axis=-1))\n",
    "print(np.argmax(predictions2, axis=-1).shape)\n",
    "print(test_data_labels.shape)"
   ]
  },
  {
   "cell_type": "code",
   "execution_count": 29,
   "metadata": {},
   "outputs": [
    {
     "data": {
      "image/png": "[encoded data removed]",
      "text/plain": [
       "<Figure size 864x720 with 2 Axes>"
      ]
     },
     "metadata": {},
     "output_type": "display_data"
    }
   ],
   "source": [
    "\n",
    "# modelDf['test_cms'].values[0]\n",
    "# plot_confusion_matrix_2(modelDf['test_cms'].values[0],normalize=False)\n",
    "\n",
    "plot_confusion_matrix_2(cm2,normalize=False)"
   ]
  },
  {
   "cell_type": "code",
   "execution_count": null,
   "metadata": {},
   "outputs": [
    {
     "data": {
      "text/html": [
       "<div>\n",
       "<style scoped>\n",
       "    .dataframe tbody tr th:only-of-type {\n",
       "        vertical-align: middle;\n",
       "    }\n",
       "\n",
       "    .dataframe tbody tr th {\n",
       "        vertical-align: top;\n",
       "    }\n",
       "\n",
       "    .dataframe thead th {\n",
       "        text-align: right;\n",
       "    }\n",
       "</style>\n",
       "<table border=\"1\" class=\"dataframe\">\n",
       "  <thead>\n",
       "    <tr style=\"text-align: right;\">\n",
       "      <th></th>\n",
       "      <th>index</th>\n",
       "      <th>loss</th>\n",
       "      <th>accuracy</th>\n",
       "      <th>f1_m</th>\n",
       "      <th>precision_m</th>\n",
       "      <th>recall_m</th>\n",
       "    </tr>\n",
       "  </thead>\n",
       "  <tbody>\n",
       "    <tr>\n",
       "      <td>0</td>\n",
       "      <td>0</td>\n",
       "      <td>0.70714</td>\n",
       "      <td>0.550792</td>\n",
       "      <td>0.7145</td>\n",
       "      <td>0.568331</td>\n",
       "      <td>0.982416</td>\n",
       "    </tr>\n",
       "  </tbody>\n",
       "</table>\n",
       "</div>"
      ],
      "text/plain": [
       "   index     loss  accuracy    f1_m  precision_m  recall_m\n",
       "0      0  0.70714  0.550792  0.7145     0.568331  0.982416"
      ]
     },
     "execution_count": 76,
     "metadata": {},
     "output_type": "execute_result"
    }
   ],
   "source": [
    "\n",
    "history_df = pd.DataFrame(histories[0].history).reset_index()\n",
    "history_df"
   ]
  },
  {
   "cell_type": "code",
   "execution_count": null,
   "metadata": {},
   "outputs": [],
   "source": [
    "# fig, axes = plt.subplots(nrows=2, ncols=2, figsize=(15,10))\n",
    "\n",
    "# for i in range(len(list(modelDf.optimizers))):\n",
    "#     cls = modelDf.iloc[i,2]\n",
    "#     plot_confusion_matrix_2(modelDf[modelDf['optimizers']==cls]['cms'][i])\n",
    "#     ax.title.set_text(type(cls).__name__)\n",
    "# plt.tight_layout()  \n",
    "# plt.show()"
   ]
  }
 ],
 "metadata": {
  "interpreter": {
   "hash": "1a7e1b17602ce2ea468a951908af7bc23f5fb404bcd43f493b2f049dccd7860b"
  },
  "kernelspec": {
   "display_name": "Python 3.7.11 64-bit ('wild_fire_detection_capstone': conda)",
   "name": "python3"
  },
  "language_info": {
   "codemirror_mode": {
    "name": "ipython",
    "version": 3
   },
   "file_extension": ".py",
   "mimetype": "text/x-python",
   "name": "python",
   "nbconvert_exporter": "python",
   "pygments_lexer": "ipython3",
   "version": "3.7.4"
  }
 },
 "nbformat": 4,
 "nbformat_minor": 2
}
