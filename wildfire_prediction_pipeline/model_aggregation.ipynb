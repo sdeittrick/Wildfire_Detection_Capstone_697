{
 "cells": [
  {
   "cell_type": "markdown",
   "metadata": {},
   "source": [
    "### Library Import"
   ]
  },
  {
   "cell_type": "code",
   "execution_count": 150,
   "metadata": {},
   "outputs": [
    {
     "name": "stdout",
     "output_type": "stream",
     "text": [
      "The tensorboard extension is already loaded. To reload it, use:\n",
      "  %reload_ext tensorboard\n"
     ]
    }
   ],
   "source": [
    "import os\n",
    "import pandas as pd\n",
    "import numpy as np\n",
    "import pickle\n",
    "\n",
    "import PIL\n",
    "from PIL import Image\n",
    "import matplotlib.pyplot as plt\n",
    "%matplotlib inline \n",
    "\n",
    "import tensorflow as tf\n",
    "from tensorflow.keras import models, layers\n",
    "import matplotlib.pyplot as plt\n",
    "import matplotlib as mpl\n",
    "import sklearn\n",
    "mpl.rcParams['figure.figsize'] = (12, 10)\n",
    "colors = plt.rcParams['axes.prop_cycle'].by_key()['color']\n",
    "mpl.rcParams['text.color'] = 'white'#'#aaaaaa'\n",
    "plt.rcParams.update({'text.color': \"white\",\n",
    "                     'axes.labelcolor': \"white\"})\n",
    "\n",
    "from tensorflow import keras\n",
    "from tensorflow.keras.models import Sequential\n",
    "from tensorboard.plugins.hparams import api as hp\n",
    "%load_ext tensorboard\n",
    "\n",
    "import altair as alt\n",
    "import seaborn as sns\n",
    "\n",
    "import importlib\n",
    "\n",
    "import warnings\n",
    "warnings.filterwarnings('ignore')\n"
   ]
  },
  {
   "cell_type": "code",
   "execution_count": 159,
   "metadata": {},
   "outputs": [],
   "source": [
    "# load in test_train_split custom function\n",
    "from sklearn.metrics import confusion_matrix\n",
    "import train\n",
    "importlib.reload(train)\n",
    "from train import test_train_split, train_test_model, run\n",
    "import charts\n",
    "importlib.reload(charts)\n",
    "from charts import line_chart, plot_confusion_matrix_2, plot_roc, plot_metrics, plot_images, visualize"
   ]
  },
  {
   "cell_type": "markdown",
   "metadata": {},
   "source": [
    "# Loading in Images"
   ]
  },
  {
   "cell_type": "markdown",
   "metadata": {},
   "source": [
    "#### From pickeled files\n",
    "For loading the images for the model simply run the the below code"
   ]
  },
  {
   "cell_type": "code",
   "execution_count": 152,
   "metadata": {},
   "outputs": [],
   "source": [
    "# to load image files from pickles both train and test\n",
    "dir = os.getcwd()\n",
    "\n",
    "with open('{}/artifacts/{}'.format(dir, 'train_images_unrealEvenish_pkl.pkl'), 'rb') as pickle_file: #train_images_pkl_all.pkl\n",
    "    train_data = pickle.load(pickle_file)\n",
    "\n",
    "with open('{}/artifacts/{}'.format(dir, 'test_images_pkl_uneven_w_drone.pkl'), 'rb') as pickle_file: #test_images_pkl_even_ratio.pkl\n",
    "    test_data = pickle.load(pickle_file)\n"
   ]
  },
  {
   "cell_type": "markdown",
   "metadata": {},
   "source": [
    "Now that we have loaded the images we can split the training set in to training, development and test images. We have imported a function that we have created for this. "
   ]
  },
  {
   "cell_type": "code",
   "execution_count": 153,
   "metadata": {},
   "outputs": [
    {
     "name": "stdout",
     "output_type": "stream",
     "text": [
      "(100, 195, 3)\n",
      "(1030, 100, 195, 3)\n",
      "(1030, 1)\n"
     ]
    }
   ],
   "source": [
    "#splitting in to test train split for the training data\n",
    "train_images, train_labels, dev_images, dev_labels, test_images, test_labels = test_train_split(train_data)\n",
    "# print(np.array(train_images).shape)\n",
    "# print(np.array(train_labels).shape)\n",
    "\n",
    "# ###############################\n",
    "# #Manual data augmentation flow#\n",
    "# ###############################\n",
    "\n",
    "# #FLIPPING\n",
    "# augmented_train_images = []\n",
    "# augmented_train_labels = []\n",
    "# for i in range(len(train_images)):\n",
    "#     augmented_train_images.append(tf.image.flip_left_right(train_images[i]))\n",
    "#     augmented_train_labels.append(train_labels[i])\n",
    "#     # flipped = tf.image.flip_left_right(image, 0.4)\n",
    "#     # visualize(image, flipped)\n",
    "\n",
    "# train_images = tuple(list(train_images) + augmented_train_images)\n",
    "# train_labels = train_labels + tuple(augmented_train_labels)\n",
    "\n",
    "# #SATURATION\n",
    "# # saturated_train_images = []\n",
    "# # saturated_train_labels = []\n",
    "# # for i in range(len(train_images)):\n",
    "# #     saturated_train_images.append(tf.image.adjust_saturation(train_images[i], 2))\n",
    "# #     saturated_train_labels.append(train_labels[i])\n",
    "\n",
    "\n",
    "# # train_images = tuple(list(train_images) + saturated_train_images)\n",
    "# # train_labels = train_labels + tuple(saturated_train_labels)\n",
    "\n",
    "# # #BRIGHTNESS\n",
    "# # bright_train_images = []\n",
    "# # bright_train_labels = []\n",
    "# # for i in range(len(train_images)):\n",
    "# #     bright_train_images.append(tf.image.adjust_brightness(train_images[i], 0.4))\n",
    "# #     bright_train_labels.append(train_labels[i])\n",
    "\n",
    "# # train_images = tuple(list(train_images) + bright_train_images)\n",
    "# # train_labels = train_labels + tuple(bright_train_labels)\n",
    "\n",
    "# # #CONTRAST\n",
    "# # contrast_train_images = []\n",
    "# # contrast_train_labels = []\n",
    "# # for i in range(len(train_images)):\n",
    "# #     contrast_train_images.append(tf.image.adjust_contrast(train_images[i], 0.4))\n",
    "# #     contrast_train_labels.append(train_labels[i])\n",
    "\n",
    "# # train_images = tuple(list(train_images) + contrast_train_images)\n",
    "# # train_labels = train_labels + tuple(contrast_train_labels)\n",
    "\n",
    "\n",
    "\n",
    "#normalize the images\n",
    "train_images, dev_images, test_images = np.array(train_images) / 255.0, \\\n",
    "                                        np.array(dev_images) / 255.0, \\\n",
    "                                        np.array(test_images) / 255.0\n",
    "\n",
    "# print(train_images.shape)\n",
    "# print(train_labels.shape)\n",
    "\n",
    "train_images = tf.convert_to_tensor(train_images, dtype=tf.float32)\n",
    "train_labels = tf.convert_to_tensor(train_labels, dtype=tf.float32)\n",
    "test_images = tf.convert_to_tensor(test_images, dtype=tf.float32)\n",
    "test_labels = tf.convert_to_tensor(test_labels, dtype=tf.float32)\n",
    "\n",
    "input_shape = train_images.shape[1:]\n",
    "print(input_shape)\n",
    "print(train_images.shape)\n",
    "print(train_labels.shape)\n"
   ]
  },
  {
   "cell_type": "code",
   "execution_count": 154,
   "metadata": {},
   "outputs": [
    {
     "data": {
      "text/plain": [
       "TensorShape([100, 195, 3])"
      ]
     },
     "execution_count": 154,
     "metadata": {},
     "output_type": "execute_result"
    }
   ],
   "source": [
    "hold_out_images, hold_out_labels = zip(*test_data)\n",
    "\n",
    "images_final_test = []\n",
    "for img in hold_out_images:\n",
    "    img = Image.fromarray(img)\n",
    "    img = img.resize((input_shape[1], input_shape[0])) #change to shape of train images\n",
    "    images_final_test.append(np.array(img))\n",
    "\n",
    "hold_out_images = images_final_test\n",
    "\n",
    "#normalize the images\n",
    "hold_out_images = np.array(hold_out_images) / 255.0\n",
    "\n",
    "\n",
    "# augmented_hold_out_images = []\n",
    "# augmented_hold_out_labels = []\n",
    "# for i in range(len(hold_out_images)):\n",
    "#     augmented_hold_out_images.append(tf.image.flip_left_right(hold_out_images[i]))\n",
    "#     augmented_hold_out_labels.append(hold_out_labels[i])\n",
    "\n",
    "# hold_out_images = tuple(list(hold_out_images) + augmented_hold_out_images)\n",
    "# hold_out_labels = hold_out_labels + tuple(augmented_hold_out_labels)\n",
    "\n",
    "hold_out_images = tf.convert_to_tensor(hold_out_images , dtype=tf.float32)\n",
    "hold_out_images.shape[1:]\n",
    "\n",
    "# plot_images(hold_out_images, hold_out_labels)"
   ]
  },
  {
   "cell_type": "code",
   "execution_count": 155,
   "metadata": {},
   "outputs": [
    {
     "data": {
      "text/html": [
       "<div>\n",
       "<style scoped>\n",
       "    .dataframe tbody tr th:only-of-type {\n",
       "        vertical-align: middle;\n",
       "    }\n",
       "\n",
       "    .dataframe tbody tr th {\n",
       "        vertical-align: top;\n",
       "    }\n",
       "\n",
       "    .dataframe thead th {\n",
       "        text-align: right;\n",
       "    }\n",
       "</style>\n",
       "<table border=\"1\" class=\"dataframe\">\n",
       "  <thead>\n",
       "    <tr style=\"text-align: right;\">\n",
       "      <th></th>\n",
       "      <th>train_data_label</th>\n",
       "      <th>count_of_label</th>\n",
       "    </tr>\n",
       "  </thead>\n",
       "  <tbody>\n",
       "    <tr>\n",
       "      <th>0</th>\n",
       "      <td>0.0</td>\n",
       "      <td>554</td>\n",
       "    </tr>\n",
       "    <tr>\n",
       "      <th>1</th>\n",
       "      <td>1.0</td>\n",
       "      <td>476</td>\n",
       "    </tr>\n",
       "  </tbody>\n",
       "</table>\n",
       "</div>"
      ],
      "text/plain": [
       "   train_data_label  count_of_label\n",
       "0               0.0             554\n",
       "1               1.0             476"
      ]
     },
     "execution_count": 155,
     "metadata": {},
     "output_type": "execute_result"
    }
   ],
   "source": [
    "#view the split of the data\n",
    "df = pd.DataFrame([label[0] for label in train_labels], columns = ['label']).reset_index()\n",
    "df = df.groupby('label').count().reset_index()\n",
    "df.columns = ['train_data_label', 'count_of_label']\n",
    "df"
   ]
  },
  {
   "cell_type": "code",
   "execution_count": 156,
   "metadata": {},
   "outputs": [
    {
     "data": {
      "text/html": [
       "<div>\n",
       "<style scoped>\n",
       "    .dataframe tbody tr th:only-of-type {\n",
       "        vertical-align: middle;\n",
       "    }\n",
       "\n",
       "    .dataframe tbody tr th {\n",
       "        vertical-align: top;\n",
       "    }\n",
       "\n",
       "    .dataframe thead th {\n",
       "        text-align: right;\n",
       "    }\n",
       "</style>\n",
       "<table border=\"1\" class=\"dataframe\">\n",
       "  <thead>\n",
       "    <tr style=\"text-align: right;\">\n",
       "      <th></th>\n",
       "      <th>hold_out_label</th>\n",
       "      <th>count_of_label</th>\n",
       "    </tr>\n",
       "  </thead>\n",
       "  <tbody>\n",
       "    <tr>\n",
       "      <th>0</th>\n",
       "      <td>0</td>\n",
       "      <td>959</td>\n",
       "    </tr>\n",
       "    <tr>\n",
       "      <th>1</th>\n",
       "      <td>1</td>\n",
       "      <td>10</td>\n",
       "    </tr>\n",
       "  </tbody>\n",
       "</table>\n",
       "</div>"
      ],
      "text/plain": [
       "   hold_out_label  count_of_label\n",
       "0               0             959\n",
       "1               1              10"
      ]
     },
     "execution_count": 156,
     "metadata": {},
     "output_type": "execute_result"
    }
   ],
   "source": [
    "#view the split of the data\n",
    "df = pd.DataFrame([label[0] for label in hold_out_labels], columns = ['label']).reset_index()\n",
    "df = df.groupby('label').count().reset_index()\n",
    "df.columns = ['hold_out_label', 'count_of_label']\n",
    "df"
   ]
  },
  {
   "cell_type": "markdown",
   "metadata": {},
   "source": [
    "# Hyperparameter Tuning"
   ]
  },
  {
   "cell_type": "code",
   "execution_count": 157,
   "metadata": {},
   "outputs": [],
   "source": [
    "%reload_ext tensorboard\n",
    "#! rm -rf ./logs/"
   ]
  },
  {
   "cell_type": "code",
   "execution_count": 160,
   "metadata": {},
   "outputs": [
    {
     "name": "stdout",
     "output_type": "stream",
     "text": [
      "--- Starting trial: run-0\n",
      "{'num_units': 32, 'dropout': 0.2, 'optimizer': 'adam'}\n",
      "Epoch 1/10\n",
      "33/33 [==============================] - 40s 1s/step - loss: 0.4671 - tp: 347.0000 - fp: 109.0000 - tn: 445.0000 - fn: 129.0000 - accuracy: 0.7689 - precision: 0.7610 - recall: 0.7290 - auc: 0.8532 - prc: 0.8608\n",
      "Epoch 2/10\n",
      "33/33 [==============================] - 35s 1s/step - loss: 0.1707 - tp: 445.0000 - fp: 26.0000 - tn: 528.0000 - fn: 31.0000 - accuracy: 0.9447 - precision: 0.9448 - recall: 0.9349 - auc: 0.9785 - prc: 0.9821\n",
      "Epoch 3/10\n",
      "33/33 [==============================] - 35s 1s/step - loss: 0.1017 - tp: 457.0000 - fp: 9.0000 - tn: 545.0000 - fn: 19.0000 - accuracy: 0.9728 - precision: 0.9807 - recall: 0.9601 - auc: 0.9900 - prc: 0.9925\n",
      "Epoch 4/10\n",
      "33/33 [==============================] - 36s 1s/step - loss: 0.0600 - tp: 466.0000 - fp: 10.0000 - tn: 544.0000 - fn: 10.0000 - accuracy: 0.9806 - precision: 0.9790 - recall: 0.9790 - auc: 0.9957 - prc: 0.9966\n",
      "Epoch 5/10\n",
      "33/33 [==============================] - 34s 1s/step - loss: 0.0425 - tp: 468.0000 - fp: 3.0000 - tn: 551.0000 - fn: 8.0000 - accuracy: 0.9893 - precision: 0.9936 - recall: 0.9832 - auc: 0.9975 - prc: 0.9977\n",
      "Epoch 6/10\n",
      "33/33 [==============================] - 34s 1s/step - loss: 0.0381 - tp: 471.0000 - fp: 4.0000 - tn: 550.0000 - fn: 5.0000 - accuracy: 0.9913 - precision: 0.9916 - recall: 0.9895 - auc: 0.9968 - prc: 0.9962\n",
      "Epoch 7/10\n",
      "33/33 [==============================] - 34s 1s/step - loss: 0.0346 - tp: 471.0000 - fp: 4.0000 - tn: 550.0000 - fn: 5.0000 - accuracy: 0.9913 - precision: 0.9916 - recall: 0.9895 - auc: 0.9975 - prc: 0.9982\n",
      "Epoch 8/10\n",
      "33/33 [==============================] - 35s 1s/step - loss: 0.0332 - tp: 466.0000 - fp: 3.0000 - tn: 551.0000 - fn: 10.0000 - accuracy: 0.9874 - precision: 0.9936 - recall: 0.9790 - auc: 0.9992 - prc: 0.9992\n",
      "Epoch 9/10\n",
      "33/33 [==============================] - 33s 1s/step - loss: 0.0165 - tp: 474.0000 - fp: 2.0000 - tn: 552.0000 - fn: 2.0000 - accuracy: 0.9961 - precision: 0.9958 - recall: 0.9958 - auc: 0.9988 - prc: 0.9992\n",
      "Epoch 10/10\n",
      "33/33 [==============================] - 35s 1s/step - loss: 0.0105 - tp: 475.0000 - fp: 1.0000 - tn: 553.0000 - fn: 1.0000 - accuracy: 0.9981 - precision: 0.9979 - recall: 0.9979 - auc: 0.9999 - prc: 0.9999\n",
      "5/5 [==============================] - 3s 255ms/step - loss: 0.0179 - tp: 63.0000 - fp: 0.0000e+00 - tn: 65.0000 - fn: 1.0000 - accuracy: 0.9922 - precision: 1.0000 - recall: 0.9844 - auc: 1.0000 - prc: 1.0000\n",
      "5/5 [==============================] - 1s 249ms/step\n"
     ]
    }
   ],
   "source": [
    "session_num = 0\n",
    "epochs = 10\n",
    "HP_NUM_UNITS = hp.HParam('num_units', hp.Discrete([32]))#, 64])) #8, 16, 16,32,\n",
    "HP_DROPOUT = hp.HParam('dropout', hp.RealInterval(0.4, 0.5))\n",
    "dropout_rate = 0.2\n",
    "HP_OPTIMIZER = hp.HParam('optimizer', hp.Discrete(['adam']))#,'adam', 'Nadam'])) #'sgd','Adagrad','RMSprop',,'Nadam','Nadam'\n",
    "\n",
    "params = []\n",
    "losses = []\n",
    "accuracies = []\n",
    "f1_scores = []\n",
    "precisions = []\n",
    "recalls = []\n",
    "aucs = []\n",
    "cms = []\n",
    "units = []\n",
    "dropouts = []\n",
    "optimizers = []\n",
    "histories = []\n",
    "modelz = []\n",
    "predictions = []\n",
    "\n",
    "for num_units in HP_NUM_UNITS.domain.values:\n",
    "#for dropout_rate in (HP_DROPOUT.domain.min_value, HP_DROPOUT.domain.max_value):\n",
    "  for optimizer in HP_OPTIMIZER.domain.values:\n",
    "      hparams = {\n",
    "        HP_NUM_UNITS: num_units,\n",
    "        HP_DROPOUT: dropout_rate,\n",
    "        HP_OPTIMIZER: optimizer,\n",
    "      }\n",
    "      run_name = \"run-%d\" % session_num\n",
    "      print('--- Starting trial: %s' % run_name)\n",
    "      print({h.name: hparams[h] for h in hparams})\n",
    "      units.append(num_units)\n",
    "      dropouts.append(dropout_rate)\n",
    "      optimizers.append(optimizer)\n",
    "      model = run('logs/hparam_tuning/' + run_name, hparams, epochs, input_shape,train_images,train_labels,test_images, test_labels,\n",
    "              HP_NUM_UNITS, HP_DROPOUT, HP_OPTIMIZER, predictions,\n",
    "              params, losses, accuracies, f1_scores, precisions, recalls, cms, aucs,\n",
    "              units, dropouts, optimizers, histories, augmentModel=True)\n",
    "      modelz.append(model)\n",
    "      session_num += 1"
   ]
  },
  {
   "cell_type": "code",
   "execution_count": 161,
   "metadata": {},
   "outputs": [],
   "source": [
    "# # epoch20dropout23optimize3 = modelz\n",
    "# epoch50dropout45optimize3 = modelz"
   ]
  },
  {
   "cell_type": "code",
   "execution_count": 162,
   "metadata": {},
   "outputs": [
    {
     "data": {
      "text/html": [
       "<div>\n",
       "<style scoped>\n",
       "    .dataframe tbody tr th:only-of-type {\n",
       "        vertical-align: middle;\n",
       "    }\n",
       "\n",
       "    .dataframe tbody tr th {\n",
       "        vertical-align: top;\n",
       "    }\n",
       "\n",
       "    .dataframe thead th {\n",
       "        text-align: right;\n",
       "    }\n",
       "</style>\n",
       "<table border=\"1\" class=\"dataframe\">\n",
       "  <thead>\n",
       "    <tr style=\"text-align: right;\">\n",
       "      <th></th>\n",
       "      <th>units</th>\n",
       "      <th>dropouts</th>\n",
       "      <th>optimizers</th>\n",
       "      <th>losses</th>\n",
       "      <th>accuracies</th>\n",
       "      <th>aucs</th>\n",
       "      <th>precisions</th>\n",
       "      <th>recalls</th>\n",
       "      <th>cms</th>\n",
       "    </tr>\n",
       "  </thead>\n",
       "  <tbody>\n",
       "    <tr>\n",
       "      <th>0</th>\n",
       "      <td>32</td>\n",
       "      <td>0.2</td>\n",
       "      <td>adam</td>\n",
       "      <td>0.017917</td>\n",
       "      <td>0.992248</td>\n",
       "      <td>1.0</td>\n",
       "      <td>1.0</td>\n",
       "      <td>0.984375</td>\n",
       "      <td>[[65, 0], [1, 63]]</td>\n",
       "    </tr>\n",
       "  </tbody>\n",
       "</table>\n",
       "</div>"
      ],
      "text/plain": [
       "   units  dropouts optimizers    losses  accuracies  aucs  precisions  \\\n",
       "0     32       0.2       adam  0.017917    0.992248   1.0         1.0   \n",
       "\n",
       "    recalls                 cms  \n",
       "0  0.984375  [[65, 0], [1, 63]]  "
      ]
     },
     "execution_count": 162,
     "metadata": {},
     "output_type": "execute_result"
    }
   ],
   "source": [
    "#dataframe assembly for model comparison\n",
    "#integrate confusion matrices as well\n",
    "# epoch20dropout23optimize3Df = modelDf\n",
    "# epoch20dropout23optimize3Histories = histories\n",
    "# epoch50dropout45optimize3Df = modelDf\n",
    "# epoch50dropout45optimize3Histories = histories\n",
    "\n",
    "modelDf = pd.DataFrame(list(zip(units, dropouts, optimizers, losses, accuracies, aucs, precisions, recalls, cms)),# f1_scores,\n",
    "               columns =['units', 'dropouts', 'optimizers', 'losses', 'accuracies', 'aucs', 'precisions', 'recalls', 'cms'])#'aucs',\n",
    "\n",
    "modelDf"
   ]
  },
  {
   "cell_type": "code",
   "execution_count": 163,
   "metadata": {},
   "outputs": [],
   "source": [
    "#Best so far\n",
    "\n",
    "# 70 TN / 13 FN / 2 FP / 57 TP -- adam / 32 units / 0.2 dropout / 10 epochs\n",
    "# 54 TN / 11 FN / 18 FP / 59 TP -- Nadam / 32 units / 0.3 dropout / 10 epochs\n",
    "# 35 TN / 12 FN / 37 FP / 58 TP -- adam / 16 units / 0.1 dropout / 25 epochs\n",
    "# 40 TN / 17 FN / 32 FP / 53 TP -- RMSprop / 16 units / 0.5 dropout / 25 epochs"
   ]
  },
  {
   "cell_type": "code",
   "execution_count": 164,
   "metadata": {},
   "outputs": [
    {
     "data": {
      "image/png": "[encoded data removed]",
      "text/plain": [
       "<Figure size 864x720 with 2 Axes>"
      ]
     },
     "metadata": {
      "needs_background": "light"
     },
     "output_type": "display_data"
    }
   ],
   "source": [
    "plot_confusion_matrix_2(modelDf['cms'].values[0],normalize=False)"
   ]
  },
  {
   "cell_type": "code",
   "execution_count": 165,
   "metadata": {},
   "outputs": [],
   "source": [
    "# for model in modelz:\n",
    "#     predictions2 = model.predict(x=hold_out_images, steps=len(hold_out_images), verbose=0)\n",
    "#     cm2 = confusion_matrix(y_true=hold_out_labels, y_pred=np.argmax(predictions2, axis=-1))\n",
    "#     plot_confusion_matrix_2(cm2,normalize=False)"
   ]
  },
  {
   "cell_type": "code",
   "execution_count": 179,
   "metadata": {},
   "outputs": [
    {
     "name": "stdout",
     "output_type": "stream",
     "text": [
      "31/31 [==============================] - 11s 334ms/step\n"
     ]
    },
    {
     "data": {
      "image/png": "[encoded data removed]",
      "text/plain": [
       "<Figure size 864x720 with 2 Axes>"
      ]
     },
     "metadata": {},
     "output_type": "display_data"
    }
   ],
   "source": [
    "# #if you want to do predictions on model uncomment\n",
    "predictions = model.predict(hold_out_images, verbose = 1)\n",
    "\n",
    "scores = []\n",
    "for prediction in predictions:\n",
    "    if prediction >= .75:\n",
    "        scores.append(1)\n",
    "    else:\n",
    "        scores.append(0)\n",
    "\n",
    "plot_confusion_matrix_2(confusion_matrix(y_true=hold_out_labels, y_pred=scores),normalize=False)"
   ]
  },
  {
   "cell_type": "code",
   "execution_count": 167,
   "metadata": {},
   "outputs": [
    {
     "data": {
      "text/plain": [
       "<matplotlib.legend.Legend at 0x7f901b90cc70>"
      ]
     },
     "execution_count": 167,
     "metadata": {},
     "output_type": "execute_result"
    },
    {
     "data": {
      "image/png": "[encoded data removed]",
      "text/plain": [
       "<Figure size 864x720 with 1 Axes>"
      ]
     },
     "metadata": {},
     "output_type": "display_data"
    }
   ],
   "source": [
    "train_predictions_baseline = model.predict(train_images)\n",
    "test_predictions_baseline = model.predict(test_images)\n",
    "\n",
    "plot_roc(\"Train Baseline\", train_labels, train_predictions_baseline, color=colors[0])\n",
    "plot_roc(\"Test Baseline\", test_labels, test_predictions_baseline, color=colors[0], linestyle='--')\n",
    "plt.legend(loc='lower right')"
   ]
  },
  {
   "cell_type": "code",
   "execution_count": 117,
   "metadata": {},
   "outputs": [],
   "source": [
    "model.save(\"artifacts/model_20201207.h5\")"
   ]
  },
  {
   "cell_type": "code",
   "execution_count": 146,
   "metadata": {},
   "outputs": [
    {
     "data": {
      "text/html": [
       "<div>\n",
       "<style scoped>\n",
       "    .dataframe tbody tr th:only-of-type {\n",
       "        vertical-align: middle;\n",
       "    }\n",
       "\n",
       "    .dataframe tbody tr th {\n",
       "        vertical-align: top;\n",
       "    }\n",
       "\n",
       "    .dataframe thead th {\n",
       "        text-align: right;\n",
       "    }\n",
       "</style>\n",
       "<table border=\"1\" class=\"dataframe\">\n",
       "  <thead>\n",
       "    <tr style=\"text-align: right;\">\n",
       "      <th></th>\n",
       "      <th>epoch</th>\n",
       "      <th>variable</th>\n",
       "      <th>value</th>\n",
       "    </tr>\n",
       "  </thead>\n",
       "  <tbody>\n",
       "    <tr>\n",
       "      <th>0</th>\n",
       "      <td>0</td>\n",
       "      <td>accuracy</td>\n",
       "      <td>0.658252</td>\n",
       "    </tr>\n",
       "    <tr>\n",
       "      <th>1</th>\n",
       "      <td>0</td>\n",
       "      <td>precision</td>\n",
       "      <td>0.612727</td>\n",
       "    </tr>\n",
       "    <tr>\n",
       "      <th>2</th>\n",
       "      <td>0</td>\n",
       "      <td>recall</td>\n",
       "      <td>0.707983</td>\n",
       "    </tr>\n",
       "    <tr>\n",
       "      <th>3</th>\n",
       "      <td>0</td>\n",
       "      <td>auc</td>\n",
       "      <td>0.748223</td>\n",
       "    </tr>\n",
       "    <tr>\n",
       "      <th>4</th>\n",
       "      <td>0</td>\n",
       "      <td>loss</td>\n",
       "      <td>0.590575</td>\n",
       "    </tr>\n",
       "  </tbody>\n",
       "</table>\n",
       "</div>"
      ],
      "text/plain": [
       "   epoch   variable     value\n",
       "0      0   accuracy  0.658252\n",
       "1      0  precision  0.612727\n",
       "2      0     recall  0.707983\n",
       "3      0        auc  0.748223\n",
       "4      0       loss  0.590575"
      ]
     },
     "metadata": {},
     "output_type": "display_data"
    },
    {
     "data": {
      "text/html": [
       "\n",
       "<div id=\"altair-viz-ab090257a874423d9dd00a31b5737e1a\"></div>\n",
       "<script type=\"text/javascript\">\n",
       "  (function(spec, embedOpt){\n",
       "    let outputDiv = document.currentScript.previousElementSibling;\n",
       "    if (outputDiv.id !== \"altair-viz-ab090257a874423d9dd00a31b5737e1a\") {\n",
       "      outputDiv = document.getElementById(\"altair-viz-ab090257a874423d9dd00a31b5737e1a\");\n",
       "    }\n",
       "    const paths = {\n",
       "      \"vega\": \"https://cdn.jsdelivr.net/npm//vega@5?noext\",\n",
       "      \"vega-lib\": \"https://cdn.jsdelivr.net/npm//vega-lib?noext\",\n",
       "      \"vega-lite\": \"https://cdn.jsdelivr.net/npm//vega-lite@4.8.1?noext\",\n",
       "      \"vega-embed\": \"https://cdn.jsdelivr.net/npm//vega-embed@6?noext\",\n",
       "    };\n",
       "\n",
       "    function loadScript(lib) {\n",
       "      return new Promise(function(resolve, reject) {\n",
       "        var s = document.createElement('script');\n",
       "        s.src = paths[lib];\n",
       "        s.async = true;\n",
       "        s.onload = () => resolve(paths[lib]);\n",
       "        s.onerror = () => reject(`Error loading script: ${paths[lib]}`);\n",
       "        document.getElementsByTagName(\"head\")[0].appendChild(s);\n",
       "      });\n",
       "    }\n",
       "\n",
       "    function showError(err) {\n",
       "      outputDiv.innerHTML = `<div class=\"error\" style=\"color:red;\">${err}</div>`;\n",
       "      throw err;\n",
       "    }\n",
       "\n",
       "    function displayChart(vegaEmbed) {\n",
       "      vegaEmbed(outputDiv, spec, embedOpt)\n",
       "        .catch(err => showError(`Javascript Error: ${err.message}<br>This usually means there's a typo in your chart specification. See the javascript console for the full traceback.`));\n",
       "    }\n",
       "\n",
       "    if(typeof define === \"function\" && define.amd) {\n",
       "      requirejs.config({paths});\n",
       "      require([\"vega-embed\"], displayChart, err => showError(`Error loading script: ${err.message}`));\n",
       "    } else if (typeof vegaEmbed === \"function\") {\n",
       "      displayChart(vegaEmbed);\n",
       "    } else {\n",
       "      loadScript(\"vega\")\n",
       "        .then(() => loadScript(\"vega-lite\"))\n",
       "        .then(() => loadScript(\"vega-embed\"))\n",
       "        .catch(showError)\n",
       "        .then(() => displayChart(vegaEmbed));\n",
       "    }\n",
       "  })({\"config\": {\"view\": {\"continuousWidth\": 400, \"continuousHeight\": 300}, \"axis\": {\"labelColor\": \"#696969\", \"labelFont\": \"Arial\", \"labelFontSize\": 14, \"titleColor\": \"#696969\", \"titleFont\": \"Arial\", \"titleFontSize\": 16}, \"title\": {\"anchor\": \"start\", \"color\": \"#232b2b\", \"font\": \"Arial\", \"fontSize\": 30, \"offset\": 20}}, \"data\": {\"name\": \"data-3197b76530cd45b638111448c1926997\"}, \"mark\": {\"type\": \"line\", \"size\": 3}, \"encoding\": {\"color\": {\"type\": \"nominal\", \"field\": \"variable\", \"legend\": {\"labelColor\": \"#696969\", \"labelFont\": \"Arial\", \"labelFontSize\": 14, \"title\": null}, \"scale\": {\"range\": [\"#6f0000\", \"#696969\", \"#ff7b7b\", \"#CC5500\", \"#458205\"]}}, \"x\": {\"type\": \"quantitative\", \"axis\": {\"grid\": false, \"tickCount\": 10, \"title\": \"Epoch\"}, \"field\": \"epoch\"}, \"y\": {\"type\": \"quantitative\", \"axis\": {\"format\": \"%\", \"title\": \"Accuracy/Loss\"}, \"field\": \"value\"}}, \"height\": 300, \"title\": \"Model performance\", \"width\": 800, \"$schema\": \"https://vega.github.io/schema/vega-lite/v4.8.1.json\", \"datasets\": {\"data-3197b76530cd45b638111448c1926997\": [{\"epoch\": 0, \"variable\": \"accuracy\", \"value\": 0.6582524180412292}, {\"epoch\": 0, \"variable\": \"precision\", \"value\": 0.6127272844314575}, {\"epoch\": 0, \"variable\": \"recall\", \"value\": 0.7079831957817078}, {\"epoch\": 0, \"variable\": \"auc\", \"value\": 0.7482234239578247}, {\"epoch\": 0, \"variable\": \"loss\", \"value\": 0.5905747413635254}]}}, {\"mode\": \"vega-lite\"});\n",
       "</script>"
      ],
      "text/plain": [
       "alt.Chart(...)"
      ]
     },
     "execution_count": 146,
     "metadata": {},
     "output_type": "execute_result"
    }
   ],
   "source": [
    "line_chart(histories[0])"
   ]
  },
  {
   "cell_type": "code",
   "execution_count": null,
   "metadata": {},
   "outputs": [],
   "source": []
  }
 ],
 "metadata": {
  "interpreter": {
   "hash": "1a7e1b17602ce2ea468a951908af7bc23f5fb404bcd43f493b2f049dccd7860b"
  },
  "kernelspec": {
   "display_name": "Python 3.7.11 64-bit ('wild_fire_detection_capstone': conda)",
   "name": "python3"
  },
  "language_info": {
   "codemirror_mode": {
    "name": "ipython",
    "version": 3
   },
   "file_extension": ".py",
   "mimetype": "text/x-python",
   "name": "python",
   "nbconvert_exporter": "python",
   "pygments_lexer": "ipython3",
   "version": "3.8.3"
  }
 },
 "nbformat": 4,
 "nbformat_minor": 2
}
