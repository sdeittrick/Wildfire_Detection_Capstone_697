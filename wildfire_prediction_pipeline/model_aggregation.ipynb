{
 "cells": [
  {
   "cell_type": "markdown",
   "metadata": {},
   "source": [
    "### Library Import"
   ]
  },
  {
   "cell_type": "code",
   "execution_count": 7,
   "metadata": {},
   "outputs": [],
   "source": [
    "import os\n",
    "import pandas as pd\n",
    "import numpy as np\n",
    "import pickle\n",
    "\n",
    "import PIL\n",
    "from PIL import Image\n",
    "import matplotlib.pyplot as plt\n",
    "%matplotlib inline \n",
    "\n",
    "import tensorflow as tf\n",
    "from tensorflow.keras import models, layers\n",
    "import matplotlib.pyplot as plt\n",
    "import matplotlib as mpl\n",
    "import sklearn\n",
    "mpl.rcParams['figure.figsize'] = (12, 10)\n",
    "colors = plt.rcParams['axes.prop_cycle'].by_key()['color']\n",
    "\n",
    "from tensorflow import keras\n",
    "from tensorflow.keras.models import Sequential\n",
    "from tensorboard.plugins.hparams import api as hp\n",
    "\n",
    "import altair as alt\n",
    "import seaborn as sns\n",
    "\n",
    "import importlib\n",
    "\n",
    "import warnings\n",
    "warnings.filterwarnings('ignore')\n"
   ]
  },
  {
   "cell_type": "code",
   "execution_count": 8,
   "metadata": {},
   "outputs": [],
   "source": [
    "# load in test_train_split custom function\n",
    "from sklearn.metrics import confusion_matrix\n",
    "import train\n",
    "importlib.reload(train)\n",
    "from train import test_train_split, train_test_model, run\n",
    "import charts\n",
    "importlib.reload(charts)\n",
    "from charts import line_chart, plot_confusion_matrix_2"
   ]
  },
  {
   "cell_type": "markdown",
   "metadata": {},
   "source": [
    "# Loading in Images"
   ]
  },
  {
   "cell_type": "markdown",
   "metadata": {},
   "source": [
    "#### From pickeled files\n",
    "For loading the images for the model simply run the the below code"
   ]
  },
  {
   "cell_type": "code",
   "execution_count": 28,
   "metadata": {},
   "outputs": [],
   "source": [
    "# to load image files from pickles both train and test\n",
    "dir = os.getcwd()\n",
    "\n",
    "with open('{}/artifacts/{}'.format(dir, 'train_images_pkl.pkl'), 'rb') as pickle_file: #train_images_pkl_all.pkl\n",
    "    train_data = pickle.load(pickle_file)\n",
    "\n",
    "with open('{}/artifacts/{}'.format(dir, 'test_images_pkl_w_drone.pkl'), 'rb') as pickle_file: #test_images_pkl_even_ratio.pkl\n",
    "    test_data = pickle.load(pickle_file)\n"
   ]
  },
  {
   "cell_type": "markdown",
   "metadata": {},
   "source": [
    "Now that we have loaded the images we can split the training set in to training, development and test images. We have imported a function that we have created for this. "
   ]
  },
  {
   "cell_type": "code",
   "execution_count": 17,
   "metadata": {},
   "outputs": [
    {
     "name": "stdout",
     "output_type": "stream",
     "text": [
      "(1516, 100, 177, 3)\n",
      "(1516, 100, 177, 3)\n",
      "(100, 177, 3)\n",
      "(1516, 100, 177, 3)\n",
      "(1516, 1)\n"
     ]
    }
   ],
   "source": [
    "#splitting in to test train split for the training data\n",
    "train_images, train_labels, dev_images, dev_labels, test_images, test_labels = test_train_split(train_data)\n",
    "print(np.array(train_images).shape)\n",
    "\n",
    "#normalize the images\n",
    "train_images, dev_images, test_images = np.array(train_images) / 255.0, \\\n",
    "                                        np.array(dev_images) / 255.0, \\\n",
    "                                        np.array(test_images) / 255.0\n",
    "\n",
    "print(train_images.shape)\n",
    "\n",
    "train_images = tf.convert_to_tensor(train_images, dtype=tf.float32)\n",
    "train_labels = tf.convert_to_tensor(train_labels, dtype=tf.float32)\n",
    "test_images = tf.convert_to_tensor(test_images, dtype=tf.float32)\n",
    "test_labels = tf.convert_to_tensor(test_labels, dtype=tf.float32)\n",
    "\n",
    "input_shape = train_images.shape[1:]\n",
    "print(input_shape)\n",
    "print(train_images.shape)\n",
    "print(train_labels.shape)"
   ]
  },
  {
   "cell_type": "code",
   "execution_count": 29,
   "metadata": {},
   "outputs": [
    {
     "name": "stdout",
     "output_type": "stream",
     "text": [
      "(71, 100, 177, 3)\n",
      "(71, 100, 177, 3)\n",
      "(100, 177, 3)\n"
     ]
    }
   ],
   "source": [
    "hold_out_images, hold_out_labels = zip(*test_data)\n",
    "\n",
    "#normalize the images\n",
    "hold_out_images = np.array(hold_out_images) / 255.0\n",
    "hold_out_images = tf.convert_to_tensor(hold_out_images , dtype=tf.float32)\n",
    "input_shape = hold_out_images.shape[1:]\n",
    "\n",
    "print(hold_out_images.shape)\n",
    "print(hold_out_images.shape)\n",
    "print(input_shape)"
   ]
  },
  {
   "cell_type": "markdown",
   "metadata": {},
   "source": [
    "# Hyperparameter Tuning"
   ]
  },
  {
   "cell_type": "code",
   "execution_count": 19,
   "metadata": {},
   "outputs": [],
   "source": [
    "from tensorboard.plugins.hparams import api as hp\n",
    "# %load_ext tensorboard\n",
    "%reload_ext tensorboard\n",
    "#! rm -rf ./logs/"
   ]
  },
  {
   "cell_type": "code",
   "execution_count": 20,
   "metadata": {},
   "outputs": [
    {
     "name": "stdout",
     "output_type": "stream",
     "text": [
      "--- Starting trial: run-0\n",
      "{'num_units': 64, 'dropout': 0.4, 'optimizer': 'Nadam'}\n",
      "Epoch 1/50\n",
      "48/48 [==============================] - 43s 856ms/step - loss: 0.8636 - accuracy: 0.5726 - f1_m: 0.6747 - precision_m: 0.5671 - recall_m: 0.8514\n",
      "Epoch 2/50\n",
      "48/48 [==============================] - 47s 975ms/step - loss: 0.5747 - accuracy: 0.7170 - f1_m: 0.7130 - precision_m: 0.5756 - recall_m: 0.9542\n",
      "Epoch 3/50\n",
      "48/48 [==============================] - 46s 962ms/step - loss: 0.4410 - accuracy: 0.8015 - f1_m: 0.7182 - precision_m: 0.5680 - recall_m: 0.9873\n",
      "Epoch 4/50\n",
      "48/48 [==============================] - 42s 879ms/step - loss: 0.3797 - accuracy: 0.8430 - f1_m: 0.7197 - precision_m: 0.5703 - recall_m: 0.9846\n",
      "Epoch 5/50\n",
      "48/48 [==============================] - 43s 905ms/step - loss: 0.3066 - accuracy: 0.8852 - f1_m: 0.7215 - precision_m: 0.5710 - recall_m: 0.9917\n",
      "Epoch 6/50\n",
      "48/48 [==============================] - 42s 866ms/step - loss: 0.1905 - accuracy: 0.9235 - f1_m: 0.7216 - precision_m: 0.5722 - recall_m: 0.9990\n",
      "Epoch 7/50\n",
      "48/48 [==============================] - 42s 865ms/step - loss: 0.1984 - accuracy: 0.9235 - f1_m: 0.7202 - precision_m: 0.5700 - recall_m: 0.9965\n",
      "Epoch 8/50\n",
      "48/48 [==============================] - 47s 976ms/step - loss: 0.2914 - accuracy: 0.9057 - f1_m: 0.7149 - precision_m: 0.5645 - recall_m: 0.9937\n",
      "Epoch 9/50\n",
      "48/48 [==============================] - 41s 849ms/step - loss: 0.1396 - accuracy: 0.9518 - f1_m: 0.7222 - precision_m: 0.5698 - recall_m: 0.9986\n",
      "Epoch 10/50\n",
      "48/48 [==============================] - 42s 879ms/step - loss: 0.1900 - accuracy: 0.9321 - f1_m: 0.7202 - precision_m: 0.5700 - recall_m: 0.9947\n",
      "Epoch 11/50\n",
      "48/48 [==============================] - 54s 1s/step - loss: 0.1445 - accuracy: 0.9433 - f1_m: 0.7211 - precision_m: 0.5713 - recall_m: 0.9989\n",
      "Epoch 12/50\n",
      "48/48 [==============================] - 50s 1s/step - loss: 0.1596 - accuracy: 0.9538 - f1_m: 0.7208 - precision_m: 0.5716 - recall_m: 0.9931\n",
      "Epoch 13/50\n",
      "48/48 [==============================] - 50s 1s/step - loss: 0.1231 - accuracy: 0.9591 - f1_m: 0.7194 - precision_m: 0.5689 - recall_m: 0.9934\n",
      "Epoch 14/50\n",
      "48/48 [==============================] - 43s 900ms/step - loss: 0.0827 - accuracy: 0.9743 - f1_m: 0.7217 - precision_m: 0.5694 - recall_m: 1.0000\n",
      "Epoch 15/50\n",
      "48/48 [==============================] - 41s 857ms/step - loss: 0.0686 - accuracy: 0.9736 - f1_m: 0.7196 - precision_m: 0.5681 - recall_m: 0.9977\n",
      "Epoch 16/50\n",
      "48/48 [==============================] - 48s 1000ms/step - loss: 0.0729 - accuracy: 0.9756 - f1_m: 0.7205 - precision_m: 0.5684 - recall_m: 1.0000\n",
      "Epoch 17/50\n",
      "48/48 [==============================] - 47s 973ms/step - loss: 0.0515 - accuracy: 0.9815 - f1_m: 0.7180 - precision_m: 0.5673 - recall_m: 1.0000\n",
      "Epoch 18/50\n",
      "48/48 [==============================] - 61s 1s/step - loss: 0.0552 - accuracy: 0.9756 - f1_m: 0.7209 - precision_m: 0.5679 - recall_m: 1.0000\n",
      "Epoch 19/50\n",
      "48/48 [==============================] - 45s 922ms/step - loss: 0.0567 - accuracy: 0.9802 - f1_m: 0.7226 - precision_m: 0.5693 - recall_m: 0.9991\n",
      "Epoch 20/50\n",
      "48/48 [==============================] - 43s 890ms/step - loss: 0.0476 - accuracy: 0.9855 - f1_m: 0.7213 - precision_m: 0.5698 - recall_m: 1.0000\n",
      "Epoch 21/50\n",
      "48/48 [==============================] - 46s 956ms/step - loss: 0.0412 - accuracy: 0.9868 - f1_m: 0.7208 - precision_m: 0.5684 - recall_m: 1.0000\n",
      "Epoch 22/50\n",
      "48/48 [==============================] - 52s 1s/step - loss: 0.0390 - accuracy: 0.9861 - f1_m: 0.7203 - precision_m: 0.5684 - recall_m: 1.0000\n",
      "Epoch 23/50\n",
      "48/48 [==============================] - 43s 890ms/step - loss: 0.0598 - accuracy: 0.9796 - f1_m: 0.7189 - precision_m: 0.5659 - recall_m: 0.9989\n",
      "Epoch 24/50\n",
      "48/48 [==============================] - 48s 991ms/step - loss: 0.0615 - accuracy: 0.9763 - f1_m: 0.7213 - precision_m: 0.5692 - recall_m: 0.9989\n",
      "Epoch 25/50\n",
      "48/48 [==============================] - 60s 1s/step - loss: 0.0375 - accuracy: 0.9881 - f1_m: 0.7206 - precision_m: 0.5685 - recall_m: 0.9990\n",
      "Epoch 26/50\n",
      "48/48 [==============================] - 45s 936ms/step - loss: 0.0230 - accuracy: 0.9914 - f1_m: 0.7205 - precision_m: 0.5681 - recall_m: 0.9989\n",
      "Epoch 27/50\n",
      "48/48 [==============================] - 44s 916ms/step - loss: 0.0252 - accuracy: 0.9914 - f1_m: 0.7211 - precision_m: 0.5693 - recall_m: 0.9991\n",
      "Epoch 28/50\n",
      "48/48 [==============================] - 37s 777ms/step - loss: 0.0199 - accuracy: 0.9934 - f1_m: 0.7217 - precision_m: 0.5705 - recall_m: 1.0000\n",
      "Epoch 29/50\n",
      "48/48 [==============================] - 37s 774ms/step - loss: 0.3335 - accuracy: 0.9413 - f1_m: 0.7262 - precision_m: 0.5754 - recall_m: 1.0000\n",
      "Epoch 30/50\n",
      "48/48 [==============================] - 36s 745ms/step - loss: 0.0804 - accuracy: 0.9723 - f1_m: 0.7193 - precision_m: 0.5677 - recall_m: 1.0000\n",
      "Epoch 31/50\n",
      "48/48 [==============================] - 37s 764ms/step - loss: 0.0734 - accuracy: 0.9809 - f1_m: 0.7201 - precision_m: 0.5699 - recall_m: 0.9975\n",
      "Epoch 32/50\n",
      "48/48 [==============================] - 36s 752ms/step - loss: 0.0591 - accuracy: 0.9782 - f1_m: 0.7238 - precision_m: 0.5727 - recall_m: 1.0000\n",
      "Epoch 33/50\n",
      "48/48 [==============================] - 41s 859ms/step - loss: 0.0370 - accuracy: 0.9894 - f1_m: 0.7223 - precision_m: 0.5698 - recall_m: 1.0000\n",
      "Epoch 34/50\n",
      "48/48 [==============================] - 37s 765ms/step - loss: 0.0318 - accuracy: 0.9881 - f1_m: 0.7245 - precision_m: 0.5716 - recall_m: 1.0000\n",
      "Epoch 35/50\n",
      "48/48 [==============================] - 36s 748ms/step - loss: 0.0445 - accuracy: 0.9835 - f1_m: 0.7207 - precision_m: 0.5677 - recall_m: 0.9988\n",
      "Epoch 36/50\n",
      "48/48 [==============================] - 37s 772ms/step - loss: 0.0221 - accuracy: 0.9954 - f1_m: 0.7199 - precision_m: 0.5684 - recall_m: 1.0000\n",
      "Epoch 37/50\n",
      "48/48 [==============================] - 36s 756ms/step - loss: 0.0328 - accuracy: 0.9875 - f1_m: 0.7225 - precision_m: 0.5705 - recall_m: 1.0000\n",
      "Epoch 38/50\n",
      "48/48 [==============================] - 36s 755ms/step - loss: 0.0320 - accuracy: 0.9888 - f1_m: 0.7226 - precision_m: 0.5705 - recall_m: 1.0000\n",
      "Epoch 39/50\n",
      "48/48 [==============================] - 37s 765ms/step - loss: 0.0196 - accuracy: 0.9914 - f1_m: 0.7228 - precision_m: 0.5694 - recall_m: 1.0000\n",
      "Epoch 40/50\n",
      "48/48 [==============================] - 36s 740ms/step - loss: 0.0659 - accuracy: 0.9822 - f1_m: 0.7227 - precision_m: 0.5705 - recall_m: 1.0000\n",
      "Epoch 41/50\n",
      "48/48 [==============================] - 36s 751ms/step - loss: 0.0559 - accuracy: 0.9842 - f1_m: 0.7204 - precision_m: 0.5674 - recall_m: 0.9990\n",
      "Epoch 42/50\n",
      "48/48 [==============================] - 36s 741ms/step - loss: 0.0277 - accuracy: 0.9914 - f1_m: 0.7209 - precision_m: 0.5684 - recall_m: 1.0000\n",
      "Epoch 43/50\n",
      "48/48 [==============================] - 36s 745ms/step - loss: 0.0205 - accuracy: 0.9927 - f1_m: 0.7226 - precision_m: 0.5705 - recall_m: 1.0000\n",
      "Epoch 44/50\n",
      "48/48 [==============================] - 36s 741ms/step - loss: 0.0325 - accuracy: 0.9914 - f1_m: 0.7216 - precision_m: 0.5694 - recall_m: 1.0000\n",
      "Epoch 45/50\n",
      "48/48 [==============================] - 36s 751ms/step - loss: 0.0418 - accuracy: 0.9888 - f1_m: 0.7169 - precision_m: 0.5651 - recall_m: 1.0000\n",
      "Epoch 46/50\n",
      "48/48 [==============================] - 36s 750ms/step - loss: 0.0342 - accuracy: 0.9868 - f1_m: 0.7226 - precision_m: 0.5705 - recall_m: 1.0000\n",
      "Epoch 47/50\n",
      "48/48 [==============================] - 36s 750ms/step - loss: 0.0246 - accuracy: 0.9927 - f1_m: 0.7212 - precision_m: 0.5684 - recall_m: 1.0000\n",
      "Epoch 48/50\n",
      "48/48 [==============================] - 37s 764ms/step - loss: 0.0216 - accuracy: 0.9908 - f1_m: 0.7233 - precision_m: 0.5731 - recall_m: 0.9988\n",
      "Epoch 49/50\n",
      "48/48 [==============================] - 36s 742ms/step - loss: 0.0299 - accuracy: 0.9908 - f1_m: 0.7194 - precision_m: 0.5662 - recall_m: 1.0000\n",
      "Epoch 50/50\n",
      "48/48 [==============================] - 36s 746ms/step - loss: 0.0183 - accuracy: 0.9934 - f1_m: 0.7239 - precision_m: 0.5698 - recall_m: 1.0000\n",
      "6/6 [==============================] - 2s 278ms/step - loss: 0.0071 - accuracy: 1.0000 - f1_m: 0.7270 - precision_m: 0.5729 - recall_m: 1.0000\n"
     ]
    }
   ],
   "source": [
    "session_num = 0\n",
    "epochs = 50\n",
    "HP_NUM_UNITS = hp.HParam('num_units', hp.Discrete([64]))#, 64])) #8, 16\n",
    "HP_DROPOUT = hp.HParam('dropout', hp.RealInterval(0.2, 0.3))\n",
    "dropout_rate = 0.4\n",
    "HP_OPTIMIZER = hp.HParam('optimizer', hp.Discrete(['Nadam']))#,'adam', 'Nadam'])) #'sgd','Adagrad','RMSprop', \n",
    "\n",
    "params = []\n",
    "losses = []\n",
    "accuracies = []\n",
    "f1_scores = []\n",
    "precisions = []\n",
    "recalls = []\n",
    "aucs = []\n",
    "cms = []\n",
    "units = []\n",
    "dropouts = []\n",
    "optimizers = []\n",
    "histories = []\n",
    "modelz = []\n",
    "predictions = []\n",
    "\n",
    "for num_units in HP_NUM_UNITS.domain.values:\n",
    "  # for dropout_rate in (HP_DROPOUT.domain.min_value, HP_DROPOUT.domain.max_value):\n",
    "  for optimizer in HP_OPTIMIZER.domain.values:\n",
    "      hparams = {\n",
    "        HP_NUM_UNITS: num_units,\n",
    "        HP_DROPOUT: dropout_rate,\n",
    "        HP_OPTIMIZER: optimizer,\n",
    "      }\n",
    "      run_name = \"run-%d\" % session_num\n",
    "      print('--- Starting trial: %s' % run_name)\n",
    "      print({h.name: hparams[h] for h in hparams})\n",
    "      units.append(num_units)\n",
    "      dropouts.append(dropout_rate)\n",
    "      optimizers.append(optimizer)\n",
    "      model = run('logs/hparam_tuning/' + run_name, hparams, epochs, input_shape,train_images,train_labels,test_images, test_labels,\n",
    "              HP_NUM_UNITS, HP_DROPOUT, HP_OPTIMIZER, predictions,\n",
    "              params, losses, accuracies, f1_scores, precisions, recalls, cms, aucs,\n",
    "              units, dropouts, optimizers, histories, augmentModel=True)\n",
    "      modelz.append(model)\n",
    "      session_num += 1"
   ]
  },
  {
   "cell_type": "code",
   "execution_count": 21,
   "metadata": {},
   "outputs": [
    {
     "data": {
      "text/html": [
       "<div>\n",
       "<style scoped>\n",
       "    .dataframe tbody tr th:only-of-type {\n",
       "        vertical-align: middle;\n",
       "    }\n",
       "\n",
       "    .dataframe tbody tr th {\n",
       "        vertical-align: top;\n",
       "    }\n",
       "\n",
       "    .dataframe thead th {\n",
       "        text-align: right;\n",
       "    }\n",
       "</style>\n",
       "<table border=\"1\" class=\"dataframe\">\n",
       "  <thead>\n",
       "    <tr style=\"text-align: right;\">\n",
       "      <th></th>\n",
       "      <th>units</th>\n",
       "      <th>dropouts</th>\n",
       "      <th>optimizers</th>\n",
       "      <th>losses</th>\n",
       "      <th>accuracies</th>\n",
       "      <th>f1_scores</th>\n",
       "      <th>precisions</th>\n",
       "      <th>recalls</th>\n",
       "      <th>cms</th>\n",
       "    </tr>\n",
       "  </thead>\n",
       "  <tbody>\n",
       "    <tr>\n",
       "      <th>0</th>\n",
       "      <td>64</td>\n",
       "      <td>0.4</td>\n",
       "      <td>Nadam</td>\n",
       "      <td>0.007077</td>\n",
       "      <td>1.0</td>\n",
       "      <td>0.727019</td>\n",
       "      <td>0.572917</td>\n",
       "      <td>1.0</td>\n",
       "      <td>[[81, 0], [0, 109]]</td>\n",
       "    </tr>\n",
       "  </tbody>\n",
       "</table>\n",
       "</div>"
      ],
      "text/plain": [
       "   units  dropouts optimizers    losses  accuracies  f1_scores  precisions  \\\n",
       "0     64       0.4      Nadam  0.007077         1.0   0.727019    0.572917   \n",
       "\n",
       "   recalls                  cms  \n",
       "0      1.0  [[81, 0], [0, 109]]  "
      ]
     },
     "execution_count": 21,
     "metadata": {},
     "output_type": "execute_result"
    }
   ],
   "source": [
    "#dataframe assembly for model comparison\n",
    "#integrate confusion matrices as well\n",
    "\n",
    "modelDf = pd.DataFrame(list(zip(units, dropouts, optimizers, losses, accuracies, f1_scores, precisions, recalls, cms)),#aucs, \n",
    "               columns =['units', 'dropouts', 'optimizers', 'losses', 'accuracies', 'f1_scores', 'precisions', 'recalls', 'cms'])#'aucs',\n",
    "modelDf"
   ]
  },
  {
   "cell_type": "code",
   "execution_count": 22,
   "metadata": {},
   "outputs": [],
   "source": [
    "model = modelz[0]"
   ]
  },
  {
   "cell_type": "code",
   "execution_count": 23,
   "metadata": {},
   "outputs": [
    {
     "data": {
      "image/png": "[encoded data removed]",
      "text/plain": [
       "<Figure size 864x720 with 2 Axes>"
      ]
     },
     "metadata": {
      "needs_background": "light"
     },
     "output_type": "display_data"
    }
   ],
   "source": [
    "\n",
    "modelDf['cms'].values[0]\n",
    "\n",
    "plot_confusion_matrix_2(modelDf['cms'].values[0],normalize=False)"
   ]
  },
  {
   "cell_type": "code",
   "execution_count": 30,
   "metadata": {},
   "outputs": [],
   "source": [
    "# prediction = model.predict(x=test_images, steps=len(test_images), verbose=0)\n",
    "# cm = confusion_matrix(y_true=test_labels, y_pred=np.argmax(prediction, axis=-1))\n",
    "# print(np.argmax(prediction, axis=-1).shape)\n",
    "# print(test_labels.shape)\n",
    "\n",
    "predictions2 = model.predict(x=hold_out_images, steps=len(hold_out_images), verbose=0)\n",
    "cm2 = confusion_matrix(y_true=hold_out_labels, y_pred=np.argmax(predictions2, axis=-1))\n",
    "# print(np.argmax(predictions2, axis=-1).shape)\n",
    "# print(test_data_labels.shape)"
   ]
  },
  {
   "cell_type": "code",
   "execution_count": 31,
   "metadata": {},
   "outputs": [
    {
     "data": {
      "image/png": "[encoded data removed]",
      "text/plain": [
       "<Figure size 864x720 with 2 Axes>"
      ]
     },
     "metadata": {},
     "output_type": "display_data"
    }
   ],
   "source": [
    "\n",
    "# modelDf['test_cms'].values[0]\n",
    "# plot_confusion_matrix_2(modelDf['test_cms'].values[0],normalize=False)\n",
    "\n",
    "plot_confusion_matrix_2(cm2,normalize=False)"
   ]
  },
  {
   "cell_type": "code",
   "execution_count": null,
   "metadata": {},
   "outputs": [
    {
     "data": {
      "text/html": [
       "<div>\n",
       "<style scoped>\n",
       "    .dataframe tbody tr th:only-of-type {\n",
       "        vertical-align: middle;\n",
       "    }\n",
       "\n",
       "    .dataframe tbody tr th {\n",
       "        vertical-align: top;\n",
       "    }\n",
       "\n",
       "    .dataframe thead th {\n",
       "        text-align: right;\n",
       "    }\n",
       "</style>\n",
       "<table border=\"1\" class=\"dataframe\">\n",
       "  <thead>\n",
       "    <tr style=\"text-align: right;\">\n",
       "      <th></th>\n",
       "      <th>index</th>\n",
       "      <th>loss</th>\n",
       "      <th>accuracy</th>\n",
       "      <th>f1_m</th>\n",
       "      <th>precision_m</th>\n",
       "      <th>recall_m</th>\n",
       "    </tr>\n",
       "  </thead>\n",
       "  <tbody>\n",
       "    <tr>\n",
       "      <td>0</td>\n",
       "      <td>0</td>\n",
       "      <td>0.70714</td>\n",
       "      <td>0.550792</td>\n",
       "      <td>0.7145</td>\n",
       "      <td>0.568331</td>\n",
       "      <td>0.982416</td>\n",
       "    </tr>\n",
       "  </tbody>\n",
       "</table>\n",
       "</div>"
      ],
      "text/plain": [
       "   index     loss  accuracy    f1_m  precision_m  recall_m\n",
       "0      0  0.70714  0.550792  0.7145     0.568331  0.982416"
      ]
     },
     "execution_count": 76,
     "metadata": {},
     "output_type": "execute_result"
    }
   ],
   "source": [
    "\n",
    "history_df = pd.DataFrame(histories[0].history).reset_index()\n",
    "history_df"
   ]
  },
  {
   "cell_type": "code",
   "execution_count": 32,
   "metadata": {},
   "outputs": [],
   "source": [
    "model.save(\"artifacts/model_20211201.h5\")"
   ]
  },
  {
   "cell_type": "code",
   "execution_count": null,
   "metadata": {},
   "outputs": [],
   "source": [
    "# fig, axes = plt.subplots(nrows=2, ncols=2, figsize=(15,10))\n",
    "\n",
    "# for i in range(len(list(modelDf.optimizers))):\n",
    "#     cls = modelDf.iloc[i,2]\n",
    "#     plot_confusion_matrix_2(modelDf[modelDf['optimizers']==cls]['cms'][i])\n",
    "#     ax.title.set_text(type(cls).__name__)\n",
    "# plt.tight_layout()  \n",
    "# plt.show()"
   ]
  },
  {
   "cell_type": "code",
   "execution_count": null,
   "metadata": {},
   "outputs": [],
   "source": [
    "# train_predictions_baseline = model.predict(train_images)\n",
    "# test_predictions_baseline = model.predict(test_images)\n",
    "# plot_roc(\"Train Baseline\", train_labels, train_predictions_baseline, color=colors[0])\n",
    "# plot_roc(\"Test Baseline\", test_labels, test_predictions_baseline, color=colors[0], linestyle='--')\n",
    "# plt.legend(loc='lower right')"
   ]
  },
  {
   "cell_type": "code",
   "execution_count": null,
   "metadata": {},
   "outputs": [],
   "source": [
    "# plot_metrics(history)"
   ]
  }
 ],
 "metadata": {
  "interpreter": {
   "hash": "1a7e1b17602ce2ea468a951908af7bc23f5fb404bcd43f493b2f049dccd7860b"
  },
  "kernelspec": {
   "display_name": "Python 3.7.11 64-bit ('wild_fire_detection_capstone': conda)",
   "name": "python3"
  },
  "language_info": {
   "codemirror_mode": {
    "name": "ipython",
    "version": 3
   },
   "file_extension": ".py",
   "mimetype": "text/x-python",
   "name": "python",
   "nbconvert_exporter": "python",
   "pygments_lexer": "ipython3",
   "version": "3.8.3"
  }
 },
 "nbformat": 4,
 "nbformat_minor": 2
}
